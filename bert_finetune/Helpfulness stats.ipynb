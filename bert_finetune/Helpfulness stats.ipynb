{
 "cells": [
  {
   "cell_type": "code",
   "execution_count": 1,
   "metadata": {},
   "outputs": [],
   "source": [
    "import pandas as pd\n",
    "import gzip\n",
    "import json"
   ]
  },
  {
   "cell_type": "code",
   "execution_count": 2,
   "metadata": {},
   "outputs": [],
   "source": [
    "def parse(path):\n",
    "    g = gzip.open(path, 'rb')\n",
    "    for l in g:\n",
    "        yield eval(l)\n",
    "\n",
    "def getDF(path):\n",
    "    i = 0\n",
    "    df = {}\n",
    "    for d in parse(path):\n",
    "        df[i] = d\n",
    "        i += 1\n",
    "    return pd.DataFrame.from_dict(df, orient='index')"
   ]
  },
  {
   "cell_type": "code",
   "execution_count": 3,
   "metadata": {},
   "outputs": [],
   "source": [
    "def describe_helpfulness(product_helpful_series):\n",
    "    info = {}\n",
    "    info['n_reviews'] = len(product_helpful_series)\n",
    "    \n",
    "    n_votes = product_helpful_series.apply(lambda x: x[1]).values\n",
    "    up_votes = product_helpful_series.apply(lambda x: x[0]).values\n",
    "    \n",
    "    info['n_interactions'] = n_votes.sum()\n",
    "    info['n_helpfuls'] = up_votes.sum()\n",
    "    info['n_reviews_nointer'] = (n_votes == 0).sum()\n",
    "    info['percent_nointer'] = info['n_reviews_nointer'] / info['n_reviews']\n",
    "    info['percent_helpful'] = info['n_helpfuls'] / info['n_interactions']\n",
    "    info['max_inter'] = n_votes.max()\n",
    "    info['max_helpful'] = up_votes.max()\n",
    "    return info"
   ]
  },
  {
   "cell_type": "code",
   "execution_count": 4,
   "metadata": {},
   "outputs": [],
   "source": [
    "sports = getDF('data/reviews_Sports_and_Outdoors_5.json.gz')"
   ]
  },
  {
   "cell_type": "code",
   "execution_count": 5,
   "metadata": {},
   "outputs": [],
   "source": [
    "prods = sports.groupby('asin')"
   ]
  },
  {
   "cell_type": "code",
   "execution_count": 6,
   "metadata": {},
   "outputs": [
    {
     "name": "stderr",
     "output_type": "stream",
     "text": [
      "C:\\Users\\6burg\\Anaconda3\\envs\\sentsum\\lib\\site-packages\\ipykernel_launcher.py:12: RuntimeWarning: invalid value encountered in longlong_scalars\n",
      "  if sys.path[0] == '':\n"
     ]
    }
   ],
   "source": [
    "prod_helpfulness = prods.apply(lambda x: describe_helpfulness(x.helpful))"
   ]
  },
  {
   "cell_type": "code",
   "execution_count": 7,
   "metadata": {},
   "outputs": [
    {
     "data": {
      "text/plain": [
       "{'n_reviews': 294935,\n",
       " 'n_interactions': 661214,\n",
       " 'n_helpfuls': 549339,\n",
       " 'n_reviews_nointer': 181703,\n",
       " 'percent_nointer': 0.6160781189075559,\n",
       " 'percent_helpful': 0.8308036429960648,\n",
       " 'max_inter': 5819,\n",
       " 'max_helpful': 5696}"
      ]
     },
     "execution_count": 7,
     "metadata": {},
     "output_type": "execute_result"
    }
   ],
   "source": [
    "describe_helpfulness(sports.dropna().helpful)"
   ]
  },
  {
   "cell_type": "code",
   "execution_count": 8,
   "metadata": {},
   "outputs": [
    {
     "data": {
      "text/plain": [
       "{'n_reviews': 296337,\n",
       " 'n_interactions': 661962,\n",
       " 'n_helpfuls': 549659,\n",
       " 'n_reviews_nointer': 182837,\n",
       " 'percent_nointer': 0.6169901159828168,\n",
       " 'percent_helpful': 0.8303482677253378,\n",
       " 'max_inter': 5819,\n",
       " 'max_helpful': 5696}"
      ]
     },
     "execution_count": 8,
     "metadata": {},
     "output_type": "execute_result"
    }
   ],
   "source": [
    "describe_helpfulness(sports.helpful)"
   ]
  },
  {
   "cell_type": "code",
   "execution_count": null,
   "metadata": {},
   "outputs": [],
   "source": []
  }
 ],
 "metadata": {
  "kernelspec": {
   "display_name": "sentsum",
   "language": "python",
   "name": "sentsum"
  },
  "language_info": {
   "codemirror_mode": {
    "name": "ipython",
    "version": 3
   },
   "file_extension": ".py",
   "mimetype": "text/x-python",
   "name": "python",
   "nbconvert_exporter": "python",
   "pygments_lexer": "ipython3",
   "version": "3.6.8"
  }
 },
 "nbformat": 4,
 "nbformat_minor": 2
}
