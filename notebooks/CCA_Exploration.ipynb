{
 "cells": [
  {
   "cell_type": "markdown",
   "metadata": {
    "colab_type": "text",
    "id": "40qQRZQRedDm"
   },
   "source": [
    "### Import Packages"
   ]
  },
  {
   "cell_type": "code",
   "execution_count": 22,
   "metadata": {
    "colab": {},
    "colab_type": "code",
    "id": "jQYlATtuXCBu"
   },
   "outputs": [],
   "source": [
    "import tensorflow as tf\n",
    "import tensorflow_hub as hub\n",
    "from tensorflow.python.framework.errors_impl import ResourceExhaustedError"
   ]
  },
  {
   "cell_type": "code",
   "execution_count": 23,
   "metadata": {
    "colab": {
     "base_uri": "https://localhost:8080/",
     "height": 35
    },
    "colab_type": "code",
    "id": "Ngz8uVcQaz4Z",
    "outputId": "69ea0a47-b499-48d4-bd58-cdb65a2b4b24"
   },
   "outputs": [],
   "source": [
    "from keras.layers import Dense\n",
    "from keras.models import Model\n",
    "from keras.models import Sequential\n",
    "from keras import backend as K"
   ]
  },
  {
   "cell_type": "code",
   "execution_count": 24,
   "metadata": {
    "colab": {},
    "colab_type": "code",
    "id": "mz-6HeZ6XGbD"
   },
   "outputs": [],
   "source": [
    "from glob import glob\n",
    "import json\n",
    "import numpy as np\n",
    "import os\n",
    "import pandas as pd\n",
    "#import plotly.graph_objs as go\n",
    "#import plotly.plotly as py\n",
    "import spacy\n",
    "from sklearn.cross_decomposition import CCA"
   ]
  },
  {
   "cell_type": "markdown",
   "metadata": {
    "colab_type": "text",
    "id": "XUjxU4YsYJgn"
   },
   "source": [
    "### Load Data"
   ]
  },
  {
   "cell_type": "code",
   "execution_count": 25,
   "metadata": {
    "colab": {},
    "colab_type": "code",
    "id": "J7Fw3-C0W7DM"
   },
   "outputs": [],
   "source": [
    "DATA_PATH = os.path.join(\"data\", \"small_example.csv\")\n",
    "full_dataset = pd.read_csv(DATA_PATH)"
   ]
  },
  {
   "cell_type": "code",
   "execution_count": 26,
   "metadata": {
    "colab": {
     "base_uri": "https://localhost:8080/",
     "height": 306
    },
    "colab_type": "code",
    "id": "jKogZJCahcni",
    "outputId": "aa9d2c9d-ba6c-421b-fc5a-696364477a72"
   },
   "outputs": [
    {
     "data": {
      "text/html": [
       "<div>\n",
       "<style scoped>\n",
       "    .dataframe tbody tr th:only-of-type {\n",
       "        vertical-align: middle;\n",
       "    }\n",
       "\n",
       "    .dataframe tbody tr th {\n",
       "        vertical-align: top;\n",
       "    }\n",
       "\n",
       "    .dataframe thead th {\n",
       "        text-align: right;\n",
       "    }\n",
       "</style>\n",
       "<table border=\"1\" class=\"dataframe\">\n",
       "  <thead>\n",
       "    <tr style=\"text-align: right;\">\n",
       "      <th></th>\n",
       "      <th>Unnamed: 0</th>\n",
       "      <th>asin</th>\n",
       "      <th>helpful</th>\n",
       "      <th>overall</th>\n",
       "      <th>reviewTime</th>\n",
       "      <th>reviewerID</th>\n",
       "      <th>summary</th>\n",
       "      <th>reviewText</th>\n",
       "      <th>reviewDoc</th>\n",
       "    </tr>\n",
       "  </thead>\n",
       "  <tbody>\n",
       "    <tr>\n",
       "      <th>0</th>\n",
       "      <td>0</td>\n",
       "      <td>1881509818</td>\n",
       "      <td>[0, 0]</td>\n",
       "      <td>5</td>\n",
       "      <td>26 01 2014</td>\n",
       "      <td>AIXZKN4ACSKI</td>\n",
       "      <td>Woks very good</td>\n",
       "      <td>This came in on time and I am veru happy with ...</td>\n",
       "      <td>This came in on time and I am veru happy with ...</td>\n",
       "    </tr>\n",
       "    <tr>\n",
       "      <th>1</th>\n",
       "      <td>1</td>\n",
       "      <td>1881509818</td>\n",
       "      <td>[1, 1]</td>\n",
       "      <td>5</td>\n",
       "      <td>02 02 2012</td>\n",
       "      <td>A1L5P841VIO02V</td>\n",
       "      <td>Works as well as the factory tool</td>\n",
       "      <td>I had a factory Glock tool that I was using fo...</td>\n",
       "      <td>I had a factory Glock tool that I was using fo...</td>\n",
       "    </tr>\n",
       "    <tr>\n",
       "      <th>2</th>\n",
       "      <td>2</td>\n",
       "      <td>1881509818</td>\n",
       "      <td>[2, 2]</td>\n",
       "      <td>4</td>\n",
       "      <td>28 02 2012</td>\n",
       "      <td>AB2W04NI4OEAD</td>\n",
       "      <td>It's a punch, that's all.</td>\n",
       "      <td>If you do not have a 3/32 punch or would like ...</td>\n",
       "      <td>If you do not have a 3/32 punch or would like ...</td>\n",
       "    </tr>\n",
       "    <tr>\n",
       "      <th>3</th>\n",
       "      <td>3</td>\n",
       "      <td>1881509818</td>\n",
       "      <td>[0, 0]</td>\n",
       "      <td>4</td>\n",
       "      <td>05 02 2012</td>\n",
       "      <td>A148SVSWKTJKU6</td>\n",
       "      <td>It's a punch with a Glock logo.</td>\n",
       "      <td>This works no better than any 3/32 punch you w...</td>\n",
       "      <td>This works no better than any 3/32 punch you w...</td>\n",
       "    </tr>\n",
       "    <tr>\n",
       "      <th>4</th>\n",
       "      <td>4</td>\n",
       "      <td>1881509818</td>\n",
       "      <td>[0, 0]</td>\n",
       "      <td>4</td>\n",
       "      <td>23 04 2013</td>\n",
       "      <td>AAAWJ6LW9WMOO</td>\n",
       "      <td>Ok,tool does what a regular punch does.</td>\n",
       "      <td>I purchased this thinking maybe I need a speci...</td>\n",
       "      <td>I purchased this thinking maybe I need a speci...</td>\n",
       "    </tr>\n",
       "  </tbody>\n",
       "</table>\n",
       "</div>"
      ],
      "text/plain": [
       "   Unnamed: 0        asin helpful  overall  reviewTime      reviewerID  \\\n",
       "0           0  1881509818  [0, 0]        5  26 01 2014    AIXZKN4ACSKI   \n",
       "1           1  1881509818  [1, 1]        5  02 02 2012  A1L5P841VIO02V   \n",
       "2           2  1881509818  [2, 2]        4  28 02 2012   AB2W04NI4OEAD   \n",
       "3           3  1881509818  [0, 0]        4  05 02 2012  A148SVSWKTJKU6   \n",
       "4           4  1881509818  [0, 0]        4  23 04 2013   AAAWJ6LW9WMOO   \n",
       "\n",
       "                                   summary  \\\n",
       "0                           Woks very good   \n",
       "1        Works as well as the factory tool   \n",
       "2                It's a punch, that's all.   \n",
       "3          It's a punch with a Glock logo.   \n",
       "4  Ok,tool does what a regular punch does.   \n",
       "\n",
       "                                          reviewText  \\\n",
       "0  This came in on time and I am veru happy with ...   \n",
       "1  I had a factory Glock tool that I was using fo...   \n",
       "2  If you do not have a 3/32 punch or would like ...   \n",
       "3  This works no better than any 3/32 punch you w...   \n",
       "4  I purchased this thinking maybe I need a speci...   \n",
       "\n",
       "                                           reviewDoc  \n",
       "0  This came in on time and I am veru happy with ...  \n",
       "1  I had a factory Glock tool that I was using fo...  \n",
       "2  If you do not have a 3/32 punch or would like ...  \n",
       "3  This works no better than any 3/32 punch you w...  \n",
       "4  I purchased this thinking maybe I need a speci...  "
      ]
     },
     "execution_count": 26,
     "metadata": {},
     "output_type": "execute_result"
    }
   ],
   "source": [
    "full_dataset = full_dataset[np.logical_not(full_dataset[\"reviewText\"].isnull().values)]\n",
    "full_dataset.head()"
   ]
  },
  {
   "cell_type": "code",
   "execution_count": 27,
   "metadata": {
    "colab": {
     "base_uri": "https://localhost:8080/",
     "height": 35
    },
    "colab_type": "code",
    "id": "NiTnO8IOYQk-",
    "outputId": "cdbf8941-1b48-461b-99c0-bc857e9456c7"
   },
   "outputs": [
    {
     "data": {
      "text/plain": [
       "{5: 32243, 4: 10582, 3: 3878, 2: 1774, 1: 1493}"
      ]
     },
     "execution_count": 27,
     "metadata": {},
     "output_type": "execute_result"
    }
   ],
   "source": [
    "# Star Rating Statistics\n",
    "star_stats = full_dataset['overall'].value_counts().to_dict()\n",
    "star_stats"
   ]
  },
  {
   "cell_type": "code",
   "execution_count": 28,
   "metadata": {
    "colab": {},
    "colab_type": "code",
    "id": "GMUL0mJ0YQ44"
   },
   "outputs": [],
   "source": [
    "# Train/Val Split\n",
    "train_x = []\n",
    "train_y = []\n",
    "\n",
    "val_x = []\n",
    "val_y = []\n",
    "\n",
    "for key, val in star_stats.items():\n",
    "    key_reviews = full_dataset[full_dataset[\"overall\"] == key]\n",
    "    train_idxs = np.random.choice(len(key_reviews), int(len(key_reviews) / 2), replace = False)\n",
    "\n",
    "    train_reviews = full_dataset.iloc[train_idxs][\"reviewText\"].tolist()\n",
    "    val_reviews = full_dataset[~ full_dataset.index.isin(train_idxs)][\"reviewText\"].tolist()\n",
    "    \n",
    "    train_x += train_reviews\n",
    "    val_x += val_reviews\n",
    "    \n",
    "    train_y += list([key] * len(train_reviews))\n",
    "    val_y += list([key] * len(val_reviews))"
   ]
  },
  {
   "cell_type": "markdown",
   "metadata": {
    "colab_type": "text",
    "id": "m-_HoXv1YRN3"
   },
   "source": [
    "### Setup Pre-Trained AutoEncoder"
   ]
  },
  {
   "cell_type": "code",
   "execution_count": 30,
   "metadata": {
    "colab": {
     "base_uri": "https://localhost:8080/",
     "height": 141
    },
    "colab_type": "code",
    "id": "c_F9YwESYuvb",
    "outputId": "a7643344-03a8-4270-e03b-5d1ab1c7414e"
   },
   "outputs": [],
   "source": [
    "# Download Module\n",
    "module_url = \"https://tfhub.dev/google/universal-sentence-encoder/2\"\n",
    "embed = hub.Module(module_url)"
   ]
  },
  {
   "cell_type": "markdown",
   "metadata": {},
   "source": [
    "## Run, Save and Load Data"
   ]
  },
  {
   "cell_type": "code",
   "execution_count": 32,
   "metadata": {},
   "outputs": [],
   "source": [
    "BATCHES = 750\n",
    "EMBEDDINGS_PATH = os.path.join(\"data\", \"embeddings\")"
   ]
  },
  {
   "cell_type": "code",
   "execution_count": 31,
   "metadata": {
    "colab": {
     "base_uri": "https://localhost:8080/",
     "height": 87
    },
    "colab_type": "code",
    "id": "3ACLJmpUd8r7",
    "outputId": "ba249e61-b76c-4081-9950-2bbd35e4a96c"
   },
   "outputs": [
    {
     "name": "stdout",
     "output_type": "stream",
     "text": [
      "INFO:tensorflow:Saver not created because there are no variables in the graph to restore\n"
     ]
    },
    {
     "name": "stderr",
     "output_type": "stream",
     "text": [
      "I0312 11:55:21.990252 15852 saver.py:1483] Saver not created because there are no variables in the graph to restore\n"
     ]
    },
    {
     "name": "stdout",
     "output_type": "stream",
     "text": [
      "INFO:tensorflow:Saver not created because there are no variables in the graph to restore\n"
     ]
    },
    {
     "name": "stderr",
     "output_type": "stream",
     "text": [
      "I0312 11:58:28.780424 15852 saver.py:1483] Saver not created because there are no variables in the graph to restore\n"
     ]
    },
    {
     "name": "stdout",
     "output_type": "stream",
     "text": [
      "INFO:tensorflow:Saver not created because there are no variables in the graph to restore\n"
     ]
    },
    {
     "name": "stderr",
     "output_type": "stream",
     "text": [
      "I0312 12:01:32.991943 15852 saver.py:1483] Saver not created because there are no variables in the graph to restore\n"
     ]
    },
    {
     "name": "stdout",
     "output_type": "stream",
     "text": [
      "INFO:tensorflow:Saver not created because there are no variables in the graph to restore\n"
     ]
    },
    {
     "name": "stderr",
     "output_type": "stream",
     "text": [
      "I0312 12:04:40.834889 15852 saver.py:1483] Saver not created because there are no variables in the graph to restore\n"
     ]
    },
    {
     "name": "stdout",
     "output_type": "stream",
     "text": [
      "INFO:tensorflow:Saver not created because there are no variables in the graph to restore\n"
     ]
    },
    {
     "name": "stderr",
     "output_type": "stream",
     "text": [
      "I0312 12:07:59.025969 15852 saver.py:1483] Saver not created because there are no variables in the graph to restore\n"
     ]
    },
    {
     "name": "stdout",
     "output_type": "stream",
     "text": [
      "INFO:tensorflow:Saver not created because there are no variables in the graph to restore\n"
     ]
    },
    {
     "name": "stderr",
     "output_type": "stream",
     "text": [
      "I0312 12:28:37.508083 15852 saver.py:1483] Saver not created because there are no variables in the graph to restore\n"
     ]
    },
    {
     "name": "stdout",
     "output_type": "stream",
     "text": [
      "INFO:tensorflow:Saver not created because there are no variables in the graph to restore\n"
     ]
    },
    {
     "name": "stderr",
     "output_type": "stream",
     "text": [
      "I0312 12:32:18.840153 15852 saver.py:1483] Saver not created because there are no variables in the graph to restore\n"
     ]
    },
    {
     "name": "stdout",
     "output_type": "stream",
     "text": [
      "INFO:tensorflow:Saver not created because there are no variables in the graph to restore\n"
     ]
    },
    {
     "name": "stderr",
     "output_type": "stream",
     "text": [
      "I0312 12:36:07.856875 15852 saver.py:1483] Saver not created because there are no variables in the graph to restore\n"
     ]
    },
    {
     "name": "stdout",
     "output_type": "stream",
     "text": [
      "INFO:tensorflow:Saver not created because there are no variables in the graph to restore\n"
     ]
    },
    {
     "name": "stderr",
     "output_type": "stream",
     "text": [
      "I0312 12:39:53.656727 15852 saver.py:1483] Saver not created because there are no variables in the graph to restore\n"
     ]
    },
    {
     "name": "stdout",
     "output_type": "stream",
     "text": [
      "INFO:tensorflow:Saver not created because there are no variables in the graph to restore\n"
     ]
    },
    {
     "name": "stderr",
     "output_type": "stream",
     "text": [
      "I0312 12:44:44.607013 15852 saver.py:1483] Saver not created because there are no variables in the graph to restore\n"
     ]
    },
    {
     "name": "stdout",
     "output_type": "stream",
     "text": [
      "INFO:tensorflow:Saver not created because there are no variables in the graph to restore\n"
     ]
    },
    {
     "name": "stderr",
     "output_type": "stream",
     "text": [
      "I0312 12:49:25.071828 15852 saver.py:1483] Saver not created because there are no variables in the graph to restore\n"
     ]
    },
    {
     "name": "stdout",
     "output_type": "stream",
     "text": [
      "INFO:tensorflow:Saver not created because there are no variables in the graph to restore\n"
     ]
    },
    {
     "name": "stderr",
     "output_type": "stream",
     "text": [
      "I0312 12:53:34.452924 15852 saver.py:1483] Saver not created because there are no variables in the graph to restore\n"
     ]
    },
    {
     "name": "stdout",
     "output_type": "stream",
     "text": [
      "INFO:tensorflow:Saver not created because there are no variables in the graph to restore\n"
     ]
    },
    {
     "name": "stderr",
     "output_type": "stream",
     "text": [
      "I0312 12:57:44.470756 15852 saver.py:1483] Saver not created because there are no variables in the graph to restore\n"
     ]
    },
    {
     "name": "stdout",
     "output_type": "stream",
     "text": [
      "INFO:tensorflow:Saver not created because there are no variables in the graph to restore\n"
     ]
    },
    {
     "name": "stderr",
     "output_type": "stream",
     "text": [
      "I0312 13:02:28.160290 15852 saver.py:1483] Saver not created because there are no variables in the graph to restore\n"
     ]
    },
    {
     "name": "stdout",
     "output_type": "stream",
     "text": [
      "INFO:tensorflow:Saver not created because there are no variables in the graph to restore\n"
     ]
    },
    {
     "name": "stderr",
     "output_type": "stream",
     "text": [
      "I0312 13:07:30.068809 15852 saver.py:1483] Saver not created because there are no variables in the graph to restore\n"
     ]
    },
    {
     "name": "stdout",
     "output_type": "stream",
     "text": [
      "INFO:tensorflow:Saver not created because there are no variables in the graph to restore\n"
     ]
    },
    {
     "name": "stderr",
     "output_type": "stream",
     "text": [
      "I0312 13:12:45.033691 15852 saver.py:1483] Saver not created because there are no variables in the graph to restore\n"
     ]
    },
    {
     "name": "stdout",
     "output_type": "stream",
     "text": [
      "INFO:tensorflow:Saver not created because there are no variables in the graph to restore\n"
     ]
    },
    {
     "name": "stderr",
     "output_type": "stream",
     "text": [
      "I0312 13:42:58.463275 15852 saver.py:1483] Saver not created because there are no variables in the graph to restore\n"
     ]
    },
    {
     "name": "stdout",
     "output_type": "stream",
     "text": [
      "INFO:tensorflow:Saver not created because there are no variables in the graph to restore\n"
     ]
    },
    {
     "name": "stderr",
     "output_type": "stream",
     "text": [
      "I0312 13:52:13.014434 15852 saver.py:1483] Saver not created because there are no variables in the graph to restore\n"
     ]
    },
    {
     "name": "stdout",
     "output_type": "stream",
     "text": [
      "INFO:tensorflow:Saver not created because there are no variables in the graph to restore\n"
     ]
    },
    {
     "name": "stderr",
     "output_type": "stream",
     "text": [
      "I0312 14:02:20.031887 15852 saver.py:1483] Saver not created because there are no variables in the graph to restore\n"
     ]
    },
    {
     "name": "stdout",
     "output_type": "stream",
     "text": [
      "INFO:tensorflow:Saver not created because there are no variables in the graph to restore\n"
     ]
    },
    {
     "name": "stderr",
     "output_type": "stream",
     "text": [
      "I0312 14:12:38.614241 15852 saver.py:1483] Saver not created because there are no variables in the graph to restore\n"
     ]
    },
    {
     "ename": "KeyboardInterrupt",
     "evalue": "",
     "output_type": "error",
     "traceback": [
      "\u001b[1;31m---------------------------------------------------------------------------\u001b[0m",
      "\u001b[1;31mKeyboardInterrupt\u001b[0m                         Traceback (most recent call last)",
      "\u001b[1;32m<ipython-input-31-426e871d5d64>\u001b[0m in \u001b[0;36m<module>\u001b[1;34m\u001b[0m\n\u001b[0;32m     13\u001b[0m         \u001b[0msession\u001b[0m\u001b[1;33m.\u001b[0m\u001b[0mrun\u001b[0m\u001b[1;33m(\u001b[0m\u001b[1;33m[\u001b[0m\u001b[0mtf\u001b[0m\u001b[1;33m.\u001b[0m\u001b[0mglobal_variables_initializer\u001b[0m\u001b[1;33m(\u001b[0m\u001b[1;33m)\u001b[0m\u001b[1;33m,\u001b[0m \u001b[0mtf\u001b[0m\u001b[1;33m.\u001b[0m\u001b[0mtables_initializer\u001b[0m\u001b[1;33m(\u001b[0m\u001b[1;33m)\u001b[0m\u001b[1;33m]\u001b[0m\u001b[1;33m)\u001b[0m\u001b[1;33m\u001b[0m\u001b[0m\n\u001b[0;32m     14\u001b[0m         \u001b[0mval_sentence_embeddings\u001b[0m \u001b[1;33m=\u001b[0m \u001b[0msession\u001b[0m\u001b[1;33m.\u001b[0m\u001b[0mrun\u001b[0m\u001b[1;33m(\u001b[0m\u001b[0membed\u001b[0m\u001b[1;33m(\u001b[0m\u001b[0mval_x\u001b[0m\u001b[1;33m[\u001b[0m\u001b[0mi\u001b[0m \u001b[1;33m*\u001b[0m \u001b[0mBATCHES\u001b[0m\u001b[1;33m:\u001b[0m \u001b[1;33m(\u001b[0m\u001b[0mi\u001b[0m\u001b[1;33m+\u001b[0m\u001b[1;36m1\u001b[0m\u001b[1;33m)\u001b[0m \u001b[1;33m*\u001b[0m \u001b[0mBATCHES\u001b[0m\u001b[1;33m]\u001b[0m\u001b[1;33m)\u001b[0m\u001b[1;33m)\u001b[0m\u001b[1;33m\u001b[0m\u001b[0m\n\u001b[1;32m---> 15\u001b[1;33m         \u001b[0mnp\u001b[0m\u001b[1;33m.\u001b[0m\u001b[0msave\u001b[0m\u001b[1;33m(\u001b[0m\u001b[0mos\u001b[0m\u001b[1;33m.\u001b[0m\u001b[0mpath\u001b[0m\u001b[1;33m.\u001b[0m\u001b[0mjoin\u001b[0m\u001b[1;33m(\u001b[0m\u001b[1;34m\"data\"\u001b[0m\u001b[1;33m,\u001b[0m \u001b[1;34m\"val_sent_embeddings_{0}.npy\"\u001b[0m\u001b[1;33m.\u001b[0m\u001b[0mformat\u001b[0m\u001b[1;33m(\u001b[0m\u001b[0mi\u001b[0m\u001b[1;33m)\u001b[0m\u001b[1;33m)\u001b[0m\u001b[1;33m,\u001b[0m \u001b[0mval_sentence_embeddings\u001b[0m\u001b[1;33m)\u001b[0m\u001b[1;33m\u001b[0m\u001b[0m\n\u001b[0m",
      "\u001b[1;32mc:\\users\\garna\\anaconda3\\envs\\summarization\\lib\\site-packages\\tensorflow\\python\\client\\session.py\u001b[0m in \u001b[0;36m__exit__\u001b[1;34m(self, exec_type, exec_value, exec_tb)\u001b[0m\n\u001b[0;32m   1590\u001b[0m     \u001b[0mself\u001b[0m\u001b[1;33m.\u001b[0m\u001b[0m_default_graph_context_manager\u001b[0m \u001b[1;33m=\u001b[0m \u001b[1;32mNone\u001b[0m\u001b[1;33m\u001b[0m\u001b[0m\n\u001b[0;32m   1591\u001b[0m \u001b[1;33m\u001b[0m\u001b[0m\n\u001b[1;32m-> 1592\u001b[1;33m     \u001b[0mself\u001b[0m\u001b[1;33m.\u001b[0m\u001b[0mclose\u001b[0m\u001b[1;33m(\u001b[0m\u001b[1;33m)\u001b[0m\u001b[1;33m\u001b[0m\u001b[0m\n\u001b[0m\u001b[0;32m   1593\u001b[0m \u001b[1;33m\u001b[0m\u001b[0m\n\u001b[0;32m   1594\u001b[0m   \u001b[1;33m@\u001b[0m\u001b[0mstaticmethod\u001b[0m\u001b[1;33m\u001b[0m\u001b[0m\n",
      "\u001b[1;32mc:\\users\\garna\\anaconda3\\envs\\summarization\\lib\\site-packages\\tensorflow\\python\\client\\session.py\u001b[0m in \u001b[0;36mclose\u001b[1;34m(self)\u001b[0m\n\u001b[0;32m    726\u001b[0m     \u001b[1;32mif\u001b[0m \u001b[0mself\u001b[0m\u001b[1;33m.\u001b[0m\u001b[0m_session\u001b[0m \u001b[1;32mand\u001b[0m \u001b[1;32mnot\u001b[0m \u001b[0mself\u001b[0m\u001b[1;33m.\u001b[0m\u001b[0m_closed\u001b[0m\u001b[1;33m:\u001b[0m\u001b[1;33m\u001b[0m\u001b[0m\n\u001b[0;32m    727\u001b[0m       \u001b[0mself\u001b[0m\u001b[1;33m.\u001b[0m\u001b[0m_closed\u001b[0m \u001b[1;33m=\u001b[0m \u001b[1;32mTrue\u001b[0m\u001b[1;33m\u001b[0m\u001b[0m\n\u001b[1;32m--> 728\u001b[1;33m       \u001b[0mtf_session\u001b[0m\u001b[1;33m.\u001b[0m\u001b[0mTF_CloseSession\u001b[0m\u001b[1;33m(\u001b[0m\u001b[0mself\u001b[0m\u001b[1;33m.\u001b[0m\u001b[0m_session\u001b[0m\u001b[1;33m)\u001b[0m\u001b[1;33m\u001b[0m\u001b[0m\n\u001b[0m\u001b[0;32m    729\u001b[0m \u001b[1;33m\u001b[0m\u001b[0m\n\u001b[0;32m    730\u001b[0m   \u001b[1;32mdef\u001b[0m \u001b[0m__del__\u001b[0m\u001b[1;33m(\u001b[0m\u001b[0mself\u001b[0m\u001b[1;33m)\u001b[0m\u001b[1;33m:\u001b[0m\u001b[1;33m\u001b[0m\u001b[0m\n",
      "\u001b[1;31mKeyboardInterrupt\u001b[0m: "
     ]
    }
   ],
   "source": [
    "# for memory ease\n",
    "try:\n",
    "    for i in range(int(len(train_x) / BATCHES) + 1):\n",
    "        with tf.Session() as session:\n",
    "            session.run([tf.global_variables_initializer(), tf.tables_initializer()])\n",
    "            train_sentence_embeddings = session.run(embed(train_x[i * BATCHES: (i+1) * BATCHES]))\n",
    "            np.save(os.path.join(EMBEDDINGS_PATH, \"train_sent_embeddings_{0}.npy\".format(i)), train_sentence_embeddings)\n",
    "except ResourceExhaustedError:\n",
    "    pass\n",
    "        \n",
    "#for memory ease\n",
    "try:\n",
    "    for i in range(int(len(val_x) / BATCHES) + 1):\n",
    "        with tf.Session() as session:\n",
    "            session.run([tf.global_variables_initializer(), tf.tables_initializer()])\n",
    "            val_sentence_embeddings = session.run(embed(val_x[i * BATCHES: (i+1) * BATCHES]))\n",
    "            np.save(os.path.join(EMBEDDINGS_PATH, \"val_sent_embeddings_{0}.npy\".format(i)), val_sentence_embeddings)\n",
    "except ResourceExhaustedError:\n",
    "    pass"
   ]
  },
  {
   "cell_type": "code",
   "execution_count": 33,
   "metadata": {},
   "outputs": [],
   "source": [
    "# Load Saved Training Data\n",
    "train_files = glob(os.path.join(EMBEDDINGS_PATH, \"train*\"))\n",
    "train_files.sort(key=lambda s : int(s.split(\".\")[0].split(\"_\")[3]))\n",
    "\n",
    "train_sent_list = []\n",
    "for file in train_files:\n",
    "    train_sent_list.append(np.load(file))\n",
    "    \n",
    "train_sentence_embeddings = np.concatenate(train_sent_list, axis = 0)\n",
    "train_y = train_y[:len(train_sentence_embeddings)]"
   ]
  },
  {
   "cell_type": "code",
   "execution_count": 34,
   "metadata": {},
   "outputs": [],
   "source": [
    "# Load Saved Validation Data\n",
    "val_files = glob(os.path.join(EMBEDDINGS_PATH, \"val*\"))\n",
    "val_files.sort(key=lambda s : int(s.split(\".\")[0].split(\"_\")[3]))\n",
    "\n",
    "val_sent_list = []\n",
    "for file in val_files:\n",
    "    val_sent_list.append(np.load(file))\n",
    "    \n",
    "val_sentence_embeddings = np.concatenate(val_sent_list, axis = 0)\n",
    "val_y = val_y[:len(val_sentence_embeddings)]"
   ]
  },
  {
   "cell_type": "code",
   "execution_count": 35,
   "metadata": {
    "colab": {
     "base_uri": "https://localhost:8080/",
     "height": 238
    },
    "colab_type": "code",
    "id": "1Jw2gJvfa_mJ",
    "outputId": "287c3f5e-a14e-4abd-8f79-b327b5d82ba4"
   },
   "outputs": [],
   "source": [
    "# CONSTANTS\n",
    "NUM_TRAIN = train_sentence_embeddings.shape[0]\n",
    "NUM_VAL = val_sentence_embeddings.shape[0]\n",
    "EMBEDDING_DIM = train_sentence_embeddings.shape[1] # 512\n",
    "STAR_CLASSES = 5"
   ]
  },
  {
   "cell_type": "markdown",
   "metadata": {
    "colab_type": "text",
    "id": "fr3Wor1dZi3x"
   },
   "source": [
    "### Predict Helpfullness Rating"
   ]
  },
  {
   "cell_type": "code",
   "execution_count": 36,
   "metadata": {
    "colab": {},
    "colab_type": "code",
    "id": "nQnRtG8zpCk2"
   },
   "outputs": [],
   "source": [
    "# Prepare y (0-indexed and one-hot)\n",
    "train_y_hot = np.zeros((NUM_TRAIN, STAR_CLASSES))\n",
    "train_y_hot[range(NUM_TRAIN), np.array(train_y) - 1] = 1\n",
    "val_y_hot = np.zeros((NUM_VAL, STAR_CLASSES))\n",
    "val_y_hot[range(NUM_VAL), np.array(val_y) - 1] = 1"
   ]
  },
  {
   "cell_type": "code",
   "execution_count": 37,
   "metadata": {
    "colab": {
     "base_uri": "https://localhost:8080/",
     "height": 260
    },
    "colab_type": "code",
    "id": "ecjuNEbpZn_L",
    "outputId": "ea328718-b9ec-4496-ef84-d871c13e5ba0"
   },
   "outputs": [
    {
     "name": "stdout",
     "output_type": "stream",
     "text": [
      "_________________________________________________________________\n",
      "Layer (type)                 Output Shape              Param #   \n",
      "=================================================================\n",
      "dense_7 (Dense)              (None, 256)               131328    \n",
      "_________________________________________________________________\n",
      "dense_8 (Dense)              (None, 128)               32896     \n",
      "_________________________________________________________________\n",
      "dense_9 (Dense)              (None, 5)                 645       \n",
      "=================================================================\n",
      "Total params: 164,869\n",
      "Trainable params: 164,869\n",
      "Non-trainable params: 0\n",
      "_________________________________________________________________\n",
      "None\n"
     ]
    }
   ],
   "source": [
    "# Creating Star Rating Classifier\n",
    "output1_dim = 256\n",
    "output2_dim = 128\n",
    "NUM_EPOCHS = 2\n",
    "BATCH_SIZE = 32\n",
    "\n",
    "star_classifier = Sequential()\n",
    "star_classifier.add(Dense(output1_dim, input_dim=EMBEDDING_DIM, kernel_initializer='normal', activation='relu'))\n",
    "star_classifier.add(Dense(output2_dim, kernel_initializer='normal', activation='relu'))\n",
    "star_classifier.add(Dense(STAR_CLASSES, kernel_initializer='normal', activation='softmax'))\n",
    "\n",
    "star_classifier.compile(optimizer='adam', loss='categorical_crossentropy', metrics=['accuracy'])\n",
    "print(star_classifier.summary())"
   ]
  },
  {
   "cell_type": "code",
   "execution_count": null,
   "metadata": {
    "colab": {
     "base_uri": "https://localhost:8080/",
     "height": 1285
    },
    "colab_type": "code",
    "id": "3L40FPLTcW3t",
    "outputId": "1c90403c-6dc6-4a10-9439-b0599aa95752"
   },
   "outputs": [
    {
     "name": "stdout",
     "output_type": "stream",
     "text": [
      "Train on 24984 samples, validate on 15000 samples\n",
      "Epoch 1/2\n"
     ]
    }
   ],
   "source": [
    "# Train Star Rating Classifier\n",
    "star_classifier.fit(train_sentence_embeddings, train_y_hot, \n",
    "                    epochs = NUM_EPOCHS, batch_size = BATCH_SIZE,\n",
    "                    validation_data=(val_sentence_embeddings, val_y_hot), verbose = 1)"
   ]
  },
  {
   "cell_type": "code",
   "execution_count": null,
   "metadata": {
    "colab": {},
    "colab_type": "code",
    "id": "bxAx4fXptF7q"
   },
   "outputs": [],
   "source": [
    "# Get Star Hidden Repr.\n",
    "hidden_repr = Model(inputs = star_classifier.layers[0].input, outputs = star_classifier.layers[1].output)\n",
    "val_star_embeddings = hidden_repr.predict(val_sentence_embeddings)"
   ]
  },
  {
   "cell_type": "markdown",
   "metadata": {
    "colab_type": "text",
    "id": "4KuEQPQCdRFS"
   },
   "source": [
    "### CCA - Original & Star Embeddings"
   ]
  },
  {
   "cell_type": "code",
   "execution_count": null,
   "metadata": {
    "colab": {},
    "colab_type": "code",
    "id": "f8-EDMNndc3Y"
   },
   "outputs": [],
   "source": [
    "# CONSTANTS\n",
    "K_comps = 2"
   ]
  },
  {
   "cell_type": "code",
   "execution_count": null,
   "metadata": {
    "colab": {},
    "colab_type": "code",
    "id": "ExjKZ4IAu0Kl"
   },
   "outputs": [],
   "source": [
    "# TODO\n",
    "shuffler = list(range(val_star_embeddings.shape[0]))\n",
    "np.random.shuffle(shuffler)\n",
    "shuffled_val_embeddings = val_sentence_embeddings[shuffler[:1000], :]\n",
    "shuffled_star_embeddings = val_star_embeddings[shuffler[:1000], :]"
   ]
  },
  {
   "cell_type": "code",
   "execution_count": null,
   "metadata": {
    "colab": {
     "base_uri": "https://localhost:8080/",
     "height": 35
    },
    "colab_type": "code",
    "id": "DV5TyXhyddoX",
    "outputId": "5d0d23a7-d6d2-4d53-cd41-75d3e20f0d18"
   },
   "outputs": [],
   "source": [
    "cca = CCA(n_components=K)\n",
    "cca.fit(shuffled_val_embeddings, shuffled_star_embeddings)"
   ]
  },
  {
   "cell_type": "code",
   "execution_count": null,
   "metadata": {
    "colab": {},
    "colab_type": "code",
    "id": "DwCw6ssZZIBo"
   },
   "outputs": [],
   "source": [
    "# TODO\n",
    "# Get Embeddings\n",
    "# Train classifier on Star Ratings, Topics available in each sentence\n",
    "# Show what happens if we cluster using these labels vs. using CCA on the hidden representations"
   ]
  },
  {
   "cell_type": "code",
   "execution_count": null,
   "metadata": {
    "colab": {},
    "colab_type": "code",
    "id": "cppp2xsFZnJb"
   },
   "outputs": [],
   "source": [
    "shuffled_val_embeddings2 = val_sentence_embeddings[shuffler[1000:], :]\n",
    "shuffled_star_embeddings2 = val_star_embeddings[shuffler[1000:], :]\n",
    "val_sent_low, val_star_low = cca.transform(shuffled_val_embeddings2, shuffled_star_embeddings2)"
   ]
  },
  {
   "cell_type": "markdown",
   "metadata": {
    "colab": {
     "base_uri": "https://localhost:8080/",
     "height": 35
    },
    "colab_type": "code",
    "id": "JyKwIQqEu8BC",
    "outputId": "5dd20eac-1c8b-4fd9-8485-ab21c1ae68d6"
   },
   "source": [
    "## Plot CCA Results"
   ]
  },
  {
   "cell_type": "code",
   "execution_count": null,
   "metadata": {},
   "outputs": [],
   "source": [
    "# low-dim sentence representations\n",
    "COLORS = ['red', 'orange', 'green', 'blue', 'black']\n",
    "\n",
    "data = []\n",
    "val_y = np.array(val_y)\n",
    "for i in range(STAR_CLASSES):\n",
    "    star_x = val_sent_low[[val_y == i + 1], 0]\n",
    "    star_y = val_sent_low[[val_y == i + 1], 1]\n",
    "    data.append(go.Scatter(x = star_x,\n",
    "                           y = star_y,\n",
    "                           mode = 'markers',\n",
    "                           marker = dict(color=COLORS[i])\n",
    "    ))\n",
    "py.plot(data)"
   ]
  },
  {
   "cell_type": "code",
   "execution_count": null,
   "metadata": {},
   "outputs": [],
   "source": []
  }
 ],
 "metadata": {
  "colab": {
   "collapsed_sections": [],
   "name": "CCA-Exploration.ipynb",
   "provenance": [],
   "version": "0.3.2"
  },
  "kernelspec": {
   "display_name": "Python 3",
   "language": "python",
   "name": "python3"
  },
  "language_info": {
   "codemirror_mode": {
    "name": "ipython",
    "version": 3
   },
   "file_extension": ".py",
   "mimetype": "text/x-python",
   "name": "python",
   "nbconvert_exporter": "python",
   "pygments_lexer": "ipython3",
   "version": "3.6.6"
  }
 },
 "nbformat": 4,
 "nbformat_minor": 1
}
