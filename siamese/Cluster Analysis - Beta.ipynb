{
 "cells": [
  {
   "cell_type": "code",
   "execution_count": 2,
   "metadata": {},
   "outputs": [
    {
     "name": "stdout",
     "output_type": "stream",
     "text": [
      "The autoreload extension is already loaded. To reload it, use:\n",
      "  %reload_ext autoreload\n"
     ]
    }
   ],
   "source": [
    "%load_ext autoreload\n",
    "%autoreload 2\n",
    "\n",
    "import dill\n",
    "import numpy as np\n",
    "import os\n",
    "import pandas as pd\n",
    "import pickle\n",
    "\n",
    "import torch\n",
    "\n",
    "import cluster_analysis\n",
    "import siamese\n",
    "import utils"
   ]
  },
  {
   "cell_type": "markdown",
   "metadata": {},
   "source": [
    "## Load Very Small Dataset"
   ]
  },
  {
   "cell_type": "code",
   "execution_count": 3,
   "metadata": {},
   "outputs": [
    {
     "data": {
      "text/html": [
       "<div>\n",
       "<style scoped>\n",
       "    .dataframe tbody tr th:only-of-type {\n",
       "        vertical-align: middle;\n",
       "    }\n",
       "\n",
       "    .dataframe tbody tr th {\n",
       "        vertical-align: top;\n",
       "    }\n",
       "\n",
       "    .dataframe thead th {\n",
       "        text-align: right;\n",
       "    }\n",
       "</style>\n",
       "<table border=\"1\" class=\"dataframe\">\n",
       "  <thead>\n",
       "    <tr style=\"text-align: right;\">\n",
       "      <th></th>\n",
       "      <th>text1</th>\n",
       "      <th>text2</th>\n",
       "    </tr>\n",
       "  </thead>\n",
       "  <tbody>\n",
       "    <tr>\n",
       "      <th>0</th>\n",
       "      <td>works fine, as expected</td>\n",
       "      <td>works great and cannot  beat the price!</td>\n",
       "    </tr>\n",
       "    <tr>\n",
       "      <th>1</th>\n",
       "      <td>works fine, as expected</td>\n",
       "      <td>worked very good for what i needed and the pri...</td>\n",
       "    </tr>\n",
       "    <tr>\n",
       "      <th>2</th>\n",
       "      <td>works, great, shipped fast, great price.</td>\n",
       "      <td>this cable works perfectly and at a great price!</td>\n",
       "    </tr>\n",
       "    <tr>\n",
       "      <th>3</th>\n",
       "      <td>this cable is awesome and does the required jo...</td>\n",
       "      <td>excellent product, no complains, good price, w...</td>\n",
       "    </tr>\n",
       "    <tr>\n",
       "      <th>4</th>\n",
       "      <td>so far it is working great.</td>\n",
       "      <td>so far this item is great.</td>\n",
       "    </tr>\n",
       "  </tbody>\n",
       "</table>\n",
       "</div>"
      ],
      "text/plain": [
       "                                               text1  \\\n",
       "0                           works fine, as expected    \n",
       "1                           works fine, as expected    \n",
       "2           works, great, shipped fast, great price.   \n",
       "3  this cable is awesome and does the required jo...   \n",
       "4                        so far it is working great.   \n",
       "\n",
       "                                               text2  \n",
       "0            works great and cannot  beat the price!  \n",
       "1  worked very good for what i needed and the pri...  \n",
       "2   this cable works perfectly and at a great price!  \n",
       "3  excellent product, no complains, good price, w...  \n",
       "4                         so far this item is great.  "
      ]
     },
     "execution_count": 3,
     "metadata": {},
     "output_type": "execute_result"
    }
   ],
   "source": [
    "sentence_pairs = pd.read_csv(os.path.join(\"..\", \"src\", \"data\", \"paired_sentences.csv\"), sep = \",\")\n",
    "sentence_pairs.head()"
   ]
  },
  {
   "cell_type": "code",
   "execution_count": 4,
   "metadata": {},
   "outputs": [],
   "source": [
    "# text1 + text2\n",
    "sentences = list(sentence_pairs[\"text1\"]) + list(sentence_pairs[\"text2\"])"
   ]
  },
  {
   "cell_type": "code",
   "execution_count": 5,
   "metadata": {},
   "outputs": [],
   "source": [
    "sentence_sets = utils.create_sentence_set(sentences)\n",
    "sentence_tokenized = utils.create_spacy_text(utils.create_spacy_docs(sentences))"
   ]
  },
  {
   "cell_type": "markdown",
   "metadata": {},
   "source": [
    "## Load Model & Vocab"
   ]
  },
  {
   "cell_type": "code",
   "execution_count": 6,
   "metadata": {},
   "outputs": [],
   "source": [
    "src_vocab = torch.load(\"src_vocab.pt\")\n",
    "trg_vocab = torch.load(\"trg_vocab.pt\")"
   ]
  },
  {
   "cell_type": "code",
   "execution_count": 7,
   "metadata": {},
   "outputs": [],
   "source": [
    "model_path = \"electronics_autoencoder_epoch7.pt\"\n",
    "autoencoder = torch.load(model_path, map_location=\"cpu\")"
   ]
  },
  {
   "cell_type": "code",
   "execution_count": 8,
   "metadata": {},
   "outputs": [],
   "source": [
    "siamese_model_path = \"siamese_ae_epoch_1\"\n",
    "siamese_autoencoder = torch.load(siamese_model_path, map_location=\"cpu\")"
   ]
  },
  {
   "cell_type": "markdown",
   "metadata": {},
   "source": [
    "## Find Embeddings (Small Dataset)"
   ]
  },
  {
   "cell_type": "code",
   "execution_count": 9,
   "metadata": {},
   "outputs": [],
   "source": [
    "sent_idxs = utils.indexify_sentences(src_vocab, sentence_tokenized)"
   ]
  },
  {
   "cell_type": "code",
   "execution_count": 88,
   "metadata": {},
   "outputs": [],
   "source": [
    "sentence_embeddings, generated_sentences = siamese.run_embeddings(siamese_autoencoder, trg_vocab, sent_idxs)"
   ]
  },
  {
   "cell_type": "code",
   "execution_count": 89,
   "metadata": {},
   "outputs": [],
   "source": [
    "labels = cluster_analysis.kmeans_labels(sentence_embeddings, 4)"
   ]
  },
  {
   "cell_type": "code",
   "execution_count": 90,
   "metadata": {},
   "outputs": [],
   "source": [
    "jaccard_cluster_stats = cluster_analysis.cluster_jaccard_statistics(sentence_tokenized, sentence_sets, labels, \"kmeans\")"
   ]
  },
  {
   "cell_type": "code",
   "execution_count": 91,
   "metadata": {},
   "outputs": [
    {
     "data": {
      "text/plain": [
       "[kmeans : jaccard: avg= 0.055556, min= 0.000000, max= 0.166667, var= 0.006173,\n",
       " kmeans : jaccard: avg= 0.006000, min= 0.000000, max= 0.052632, var= 0.000234,\n",
       " kmeans : jaccard: avg= 0.028300, min= 0.000000, max= 1.000000, var= 0.015669,\n",
       " kmeans : jaccard: avg= 0.061558, min= 0.000000, max= 1.000000, var= 0.026322]"
      ]
     },
     "execution_count": 91,
     "metadata": {},
     "output_type": "execute_result"
    }
   ],
   "source": [
    "jaccard_cluster_stats"
   ]
  },
  {
   "cell_type": "code",
   "execution_count": null,
   "metadata": {},
   "outputs": [],
   "source": []
  },
  {
   "cell_type": "code",
   "execution_count": null,
   "metadata": {},
   "outputs": [],
   "source": []
  },
  {
   "cell_type": "code",
   "execution_count": null,
   "metadata": {},
   "outputs": [],
   "source": []
  },
  {
   "cell_type": "code",
   "execution_count": null,
   "metadata": {},
   "outputs": [],
   "source": []
  },
  {
   "cell_type": "code",
   "execution_count": null,
   "metadata": {},
   "outputs": [],
   "source": []
  },
  {
   "cell_type": "code",
   "execution_count": null,
   "metadata": {},
   "outputs": [],
   "source": []
  },
  {
   "cell_type": "code",
   "execution_count": null,
   "metadata": {},
   "outputs": [],
   "source": []
  },
  {
   "cell_type": "code",
   "execution_count": null,
   "metadata": {},
   "outputs": [],
   "source": []
  }
 ],
 "metadata": {
  "kernelspec": {
   "display_name": "Python 3",
   "language": "python",
   "name": "python3"
  }
 },
 "nbformat": 4,
 "nbformat_minor": 2
}
