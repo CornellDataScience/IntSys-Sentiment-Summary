{
  "nbformat": 4,
  "nbformat_minor": 0,
  "metadata": {
    "colab": {
      "name": "Baseline.ipynb",
      "version": "0.3.2",
      "provenance": [],
      "collapsed_sections": [],
      "toc_visible": true
    },
    "kernelspec": {
      "display_name": "Python 3",
      "language": "python",
      "name": "python3"
    }
  },
  "cells": [
    {
      "metadata": {
        "colab_type": "code",
        "id": "CGDOrQfktWV8",
        "colab": {}
      },
      "cell_type": "code",
      "source": [
        "import tensorflow as tf\n",
        "import tensorflow_hub as hub"
      ],
      "execution_count": 0,
      "outputs": []
    },
    {
      "metadata": {
        "colab_type": "code",
        "id": "Gu0VMs-mtfwC",
        "colab": {}
      },
      "cell_type": "code",
      "source": [
        "import json\n",
        "import spacy\n",
        "import numpy as np\n",
        "import pandas as pd\n",
        "import gzip\n",
        "from sklearn.mixture import GaussianMixture\n",
        "from sklearn.metrics.pairwise import cosine_similarity"
      ],
      "execution_count": 0,
      "outputs": []
    },
    {
      "metadata": {
        "colab_type": "code",
        "id": "ZDKyish7tk4_",
        "colab": {}
      },
      "cell_type": "code",
      "source": [
        "def parse(path):\n",
        "    g = gzip.open(path, 'rb')\n",
        "    for l in g:\n",
        "        yield eval(l)\n",
        "\n",
        "def getDF(path):\n",
        "    i = 0\n",
        "    df = {}\n",
        "    for d in parse(path):\n",
        "        df[i] = d\n",
        "        i += 1\n",
        "    return pd.DataFrame.from_dict(df, orient='index')"
      ],
      "execution_count": 0,
      "outputs": []
    },
    {
      "metadata": {
        "id": "zngfRjrCUKEQ",
        "colab_type": "code",
        "colab": {
          "base_uri": "https://localhost:8080/",
          "height": 54
        },
        "outputId": "7ee1d10f-5735-4ae7-e94a-608e3aa012eb"
      },
      "cell_type": "code",
      "source": [
        "from google.colab import drive\n",
        "drive.mount('/content/drive')"
      ],
      "execution_count": 9,
      "outputs": [
        {
          "output_type": "stream",
          "text": [
            "Drive already mounted at /content/drive; to attempt to forcibly remount, call drive.mount(\"/content/drive\", force_remount=True).\n"
          ],
          "name": "stdout"
        }
      ]
    },
    {
      "metadata": {
        "id": "E_x31uJgQq3z",
        "colab_type": "text"
      },
      "cell_type": "markdown",
      "source": [
        ""
      ]
    },
    {
      "metadata": {
        "colab_type": "code",
        "id": "1OO8o68ot3sF",
        "colab": {}
      },
      "cell_type": "code",
      "source": [
        "#have dataset in google cloud storage\n",
        "df = getDF('/content/drive/My Drive/reviews_CDs_and_Vinyl_5.json.gz')"
      ],
      "execution_count": 0,
      "outputs": []
    },
    {
      "metadata": {
        "colab_type": "text",
        "id": "CiziMDHMDsrx"
      },
      "cell_type": "markdown",
      "source": [
        "# Baseline Experiments\n",
        "## Review level"
      ]
    },
    {
      "metadata": {
        "colab_type": "text",
        "id": "eDmZWsVZC7L4"
      },
      "cell_type": "markdown",
      "source": [
        "### Get review text from product with maximum number of reviews"
      ]
    },
    {
      "metadata": {
        "colab_type": "code",
        "id": "MWN6ppi70UgB",
        "colab": {}
      },
      "cell_type": "code",
      "source": [
        "products = df.groupby('asin')\n",
        "popular_product = products.get_group(max([(name,len(g)) for name, g in products], key=lambda x: x[1])[0])\n",
        "text = popular_product.reviewText.values.tolist()"
      ],
      "execution_count": 0,
      "outputs": []
    },
    {
      "metadata": {
        "colab_type": "text",
        "id": "l8d5rcHNDNUr"
      },
      "cell_type": "markdown",
      "source": [
        "### Get the embeddings"
      ]
    },
    {
      "metadata": {
        "colab_type": "code",
        "id": "z4tebafpuHMi",
        "outputId": "8936d5cd-dfc3-47fc-facc-418fec0dd190",
        "colab": {
          "base_uri": "https://localhost:8080/",
          "height": 173
        }
      },
      "cell_type": "code",
      "source": [
        "module_url = \"https://tfhub.dev/google/universal-sentence-encoder/2\"\n",
        "embed = hub.Module(module_url)"
      ],
      "execution_count": 21,
      "outputs": [
        {
          "output_type": "stream",
          "text": [
            "INFO:tensorflow:Using /tmp/tfhub_modules to cache modules.\n",
            "INFO:tensorflow:Downloading TF-Hub Module 'https://tfhub.dev/google/universal-sentence-encoder/2'.\n",
            "INFO:tensorflow:Downloading https://tfhub.dev/google/universal-sentence-encoder/2: 908.00MB\n",
            "INFO:tensorflow:Downloaded https://tfhub.dev/google/universal-sentence-encoder/2, Total size: 993.27MB\n",
            "INFO:tensorflow:Downloaded TF-Hub Module 'https://tfhub.dev/google/universal-sentence-encoder/2'.\n",
            "WARNING:tensorflow:From /usr/local/lib/python3.6/dist-packages/tensorflow/python/ops/control_flow_ops.py:3632: colocate_with (from tensorflow.python.framework.ops) is deprecated and will be removed in a future version.\n",
            "Instructions for updating:\n",
            "Colocations handled automatically by placer.\n"
          ],
          "name": "stdout"
        }
      ]
    },
    {
      "metadata": {
        "colab_type": "code",
        "id": "N1RZXwPQuakM",
        "outputId": "e6cf4a97-ebf3-4e75-f1db-b3c8671636f8",
        "colab": {
          "base_uri": "https://localhost:8080/",
          "height": 34
        }
      },
      "cell_type": "code",
      "source": [
        "with tf.Session() as session:\n",
        "  session.run([tf.global_variables_initializer(), tf.tables_initializer()])\n",
        "  message_embeddings = session.run(embed(text))"
      ],
      "execution_count": 22,
      "outputs": [
        {
          "output_type": "stream",
          "text": [
            "INFO:tensorflow:Saver not created because there are no variables in the graph to restore\n"
          ],
          "name": "stdout"
        }
      ]
    },
    {
      "metadata": {
        "colab_type": "code",
        "id": "aGJtgTmM0VAX",
        "outputId": "e0330835-3216-4e81-cb3a-727046d4617e",
        "colab": {
          "base_uri": "https://localhost:8080/",
          "height": 238
        }
      },
      "cell_type": "code",
      "source": [
        "message_embeddings"
      ],
      "execution_count": 23,
      "outputs": [
        {
          "output_type": "execute_result",
          "data": {
            "text/plain": [
              "array([[-0.00498599,  0.05155576, -0.05256446, ..., -0.01323828,\n",
              "        -0.0153173 , -0.02197886],\n",
              "       [ 0.03496033,  0.00148476, -0.03304245, ...,  0.02228946,\n",
              "        -0.05228505, -0.04375076],\n",
              "       [ 0.01388276,  0.0456822 , -0.04915727, ...,  0.01008371,\n",
              "        -0.0022106 , -0.00903768],\n",
              "       ...,\n",
              "       [-0.00988192,  0.04619836, -0.05654455, ..., -0.01586402,\n",
              "        -0.01399377, -0.05667837],\n",
              "       [-0.00270829,  0.03226892, -0.03778088, ...,  0.00980518,\n",
              "        -0.04636449, -0.01610075],\n",
              "       [ 0.03276125,  0.03607516, -0.01833413, ...,  0.05066476,\n",
              "        -0.01203018, -0.02806881]], dtype=float32)"
            ]
          },
          "metadata": {
            "tags": []
          },
          "execution_count": 23
        }
      ]
    },
    {
      "metadata": {
        "colab_type": "text",
        "id": "AQfR1cDRDdjy"
      },
      "cell_type": "markdown",
      "source": [
        "### Cluster"
      ]
    },
    {
      "metadata": {
        "colab_type": "code",
        "id": "6DibQU_S02Qh",
        "colab": {}
      },
      "cell_type": "code",
      "source": [
        "gmm = GaussianMixture(n_components=5, covariance_type='full').fit(message_embeddings)"
      ],
      "execution_count": 0,
      "outputs": []
    },
    {
      "metadata": {
        "colab_type": "code",
        "id": "baSPcO5z1zH0",
        "outputId": "948af7cd-f042-4eee-84a2-28ae1ca0c915",
        "colab": {
          "base_uri": "https://localhost:8080/",
          "height": 187
        }
      },
      "cell_type": "code",
      "source": [
        "gmm.means_"
      ],
      "execution_count": 25,
      "outputs": [
        {
          "output_type": "execute_result",
          "data": {
            "text/plain": [
              "array([[ 0.02396342,  0.01456812, -0.00786535, ...,  0.00964799,\n",
              "        -0.02902046, -0.0208292 ],\n",
              "       [ 0.00492165,  0.04102638, -0.04064649, ..., -0.00031299,\n",
              "        -0.00538904, -0.02168997],\n",
              "       [-0.02148044,  0.0215514 , -0.03355961, ..., -0.01495544,\n",
              "        -0.02352742, -0.03041917],\n",
              "       [ 0.03200406,  0.03405391, -0.01268487, ...,  0.01913169,\n",
              "        -0.00155534, -0.01288623],\n",
              "       [ 0.00500178,  0.03959957, -0.02983416, ...,  0.00997102,\n",
              "        -0.01566399, -0.00643891]])"
            ]
          },
          "metadata": {
            "tags": []
          },
          "execution_count": 25
        }
      ]
    },
    {
      "metadata": {
        "colab_type": "text",
        "id": "DSK5EPNGDgNp"
      },
      "cell_type": "markdown",
      "source": [
        "### Extract"
      ]
    },
    {
      "metadata": {
        "colab_type": "code",
        "id": "BujRBhoi10Zt",
        "colab": {}
      },
      "cell_type": "code",
      "source": [
        "sim = cosine_similarity(message_embeddings, gmm.means_)"
      ],
      "execution_count": 0,
      "outputs": []
    },
    {
      "metadata": {
        "colab_type": "code",
        "id": "wPSCKxuc4v2M",
        "colab": {}
      },
      "cell_type": "code",
      "source": [
        "extractive_means = sim.argmax(axis=0)"
      ],
      "execution_count": 0,
      "outputs": []
    },
    {
      "metadata": {
        "colab_type": "code",
        "id": "ed0lLcdG5OX4",
        "outputId": "8ca5c72a-23f0-42b3-b7a6-5dacabcd2cac",
        "colab": {
          "base_uri": "https://localhost:8080/",
          "height": 207
        }
      },
      "cell_type": "code",
      "source": [
        "for i in extractive_means:\n",
        "  print(text[i] + '\\n')"
      ],
      "execution_count": 28,
      "outputs": [
        {
          "output_type": "stream",
          "text": [
            "I.v been a Metallica fan since Ride the Lightning, and this is by far the worst Metallica recording I,v ever heard. The entire album sounds like it was recorded inside of a tin can. The vocals are faint, the music itself is muddy and rushed. I got not more than four tracks into the CD when I wanted to return it to the store and get my money back. Sounds like theyve been listening to too much System of a Down.(which to me was another disappointment along with the latest Godsmack)But I digress. I have not talked to one single person who tinks this album is anything but a peice of ... . Try again guys. Do it yurself and let Bob Rock go back to Bon Jovi. This album [is not good]!\n",
            "\n",
            "Let's start with the fact that this album sounds bad, before we even touch on the fact that it is, in fact, the worst Metallica record ever produced. Metallica latest effort tries to reclaim the glory years, unfortunately the group forgot those years. The one thing on the album that annoyed me the most was the snare drums. They had a tinny, echoing quality that resonates irritatingly into the hard pauses and penetrates even the full symphony of instruments. Also, Kirk Hammet's axe work was mixed unbelievably far back into the album's mix, it's virtually non-existent. Hetfield's voice is an absolute mess. A few of the tracks here, which do honestly attempt to elevate the band back to thrash, are relatively listenable until the vocals come in. The lyrics in some of the songs are just plain silly. One example is Shoot Me Again. Hetfield bellows over and over \"Shoot me again, until I'm dead\" I just shook my head in disbelief. My how the mighty have fallen. The production is terrible as Bob Rock tried to give the band a rawer sound, unfortunately it backfired big time.A lot of hype has been made about the fact that St. Anger is a return to the band's older days. But what all of this assumes is that the older days can be replicated with a few heavy riffs and killer drum fills. That assumption begs for a lot and the fact that this album is full of poor lyrics that are poorly sung, all atop a poor mix of instrumentals. In my opinion, Metallica has hit rock bottom.\n",
            "\n",
            "Metallica's best album was Kill Em' All. Let's face it folks, Metallica was on a downfall from every album after their debut. Should this album, after the poppy alternenative rock on Load/Reload, be just the same old Alternica? No.This CD is so fast, loud, and hard hitting, that whenever I listen to it, I get a pounding headache. A good feeling headache.Sure, James Hetfield sounds like he's been to hell and back, the drums sound like they've turned into tin, and the songwriting is uninspired, but does that really matter? No, as long as there are no 4 minute radio friendly songs.Most of the reviewers have probably listened to the album once and decided they hate it. I listened to it about 3 times, and after the excrutiating first listen ...the songs started to grow on me. This is probably the best Metallica album since Kill Em' All of course.Bottom Line: They deserve to be called Metallica now. 75 minutes of pure, headache inducing power.\n",
            "\n",
            "so far this is the worst cd i have heard this year.Metallica is dead & Cliff Burton is rolling in his grave waiting to slap them all when he sees them again in the afterlife.just when you thought it was safe to be a Metallica fan you get ripped yet again. I thought Load & Reload were awful, but this is stupefyingly insane. St. Anger (the song) sounds like it was recorded in a giant toilet & what's up with Lars' drum sound? is his drum tech BLIND & STUPID. for a band back in the day that could care less about chart success, critics & trying to fit in to the current music scene they sure do sound a lot like STAIND, KORN & Limp Triscuit.if you want something worth your hard earned money get a real album. go out & purchase \"HOW THE WEST WAS WON\" by Led Zeppelin you will not be disappointed.\n",
            "\n",
            "I suppose I understand the reasoning behind this albums horrible sound quality. For so many years now, Metallica has heard legions of fans crying for a return to the &quot;good old days&quot;...the days when Metallica was a metal band and substance was more important than production. The question is, is St. Anger an angry middle finger to that breed of Metallica fan? This album is like a bad demo tape made by a garage band before they've even found their own sound. People referred to them as &quot;thinking man's metal&quot; back then, not because they could shred strings and doublekick on drums, but more because of the classical influences, amazing guitar solos, and sophistication of their music. St Anger has none of this...no sophistication, no solos, no originality. Through and through, this album sounds like Metallica just said &quot;they want us heavy again, we'll do nothing but heavy&quot; and &quot;if they want an oldschool sound, we'll go to some junior highschool garage bands garage and record with a My First Sony tape deck&quot;. This is how bad this album sounds. I was not a huge fan of Load, and I think Reload was just complety trash, but St. Anger feels an awful lot like an f-you to a fan of Metallica's truly orinal early works. Master of Puppets and And Justice for All were two of my favorite albums of all time. I mourn the loss of the great band that recorded them. Rest in peace, may we see you again someday.\n",
            "\n"
          ],
          "name": "stdout"
        }
      ]
    },
    {
      "metadata": {
        "colab_type": "text",
        "id": "bVSr6OnhIpA0"
      },
      "cell_type": "markdown",
      "source": [
        "## Sentence Level"
      ]
    },
    {
      "metadata": {
        "colab_type": "code",
        "id": "UHPj4kuS5erp",
        "colab": {}
      },
      "cell_type": "code",
      "source": [
        "spacy.prefer_gpu()\n",
        "nlp = spacy.load('en_core_web_sm')"
      ],
      "execution_count": 0,
      "outputs": []
    },
    {
      "metadata": {
        "colab_type": "text",
        "id": "FpGq29QtJWc5"
      },
      "cell_type": "markdown",
      "source": [
        "### Perform sentence segmentation"
      ]
    },
    {
      "metadata": {
        "colab_type": "code",
        "id": "GIw7T0VeJAg8",
        "colab": {}
      },
      "cell_type": "code",
      "source": [
        "sentences = []\n",
        "for review in text:\n",
        "  doc = nlp(review)\n",
        "  for sent in doc.sents:\n",
        "    sentences.append(sent.text)"
      ],
      "execution_count": 0,
      "outputs": []
    },
    {
      "metadata": {
        "colab_type": "code",
        "id": "K33EGpTLKPBL",
        "outputId": "dee0689f-defd-41df-ef4d-b0d947bda1a9",
        "colab": {
          "base_uri": "https://localhost:8080/",
          "height": 207
        }
      },
      "cell_type": "code",
      "source": [
        "sentences[:10]"
      ],
      "execution_count": 31,
      "outputs": [
        {
          "output_type": "execute_result",
          "data": {
            "text/plain": [
              "['Without a doubt, Metallica are the godfathers of thrash metal.',\n",
              " \"More so than any modern band, Metallica has been influential in shaping the course and growth of metal from their early days back in the 1980's to the present.\",\n",
              " 'Perhaps the best compliment that can be paid to Metallica is the fact that, at 40+ years-of-age, they have been able to remain relevant in an industry (music) that is dominated and defined by the interests of the youth.',\n",
              " 'Metallica\\'s early career was defined by four albums which could stand as the defining elements of the thrash metal genre (i.e., \"Kill em All\" through \"...',\n",
              " 'And Justice for All\").',\n",
              " 'Following \"...',\n",
              " 'And Justice for All,\" Metallica entered a period of producing music that, although well written, seemed to abandon their thrash metal roots.',\n",
              " 'As any true fan of Metallica and thrash metal know, Metallica endured some fairly harsh criticism for \"softening up.\"',\n",
              " 'However, with \"St. Anger\" Metallica reposition themselves firmly within the aggressive genre of music that they help create. \"',\n",
              " 'St. Anger\" is truly a brutal, fast, and aggressive album.']"
            ]
          },
          "metadata": {
            "tags": []
          },
          "execution_count": 31
        }
      ]
    },
    {
      "metadata": {
        "colab_type": "text",
        "id": "UnKA9KWfMSR7"
      },
      "cell_type": "markdown",
      "source": [
        "### Proceed as before"
      ]
    },
    {
      "metadata": {
        "colab_type": "code",
        "id": "zL_eRRW1J2sW",
        "outputId": "6e6a4cd5-00d0-43ec-d8b2-52daec1d92ec",
        "colab": {
          "base_uri": "https://localhost:8080/",
          "height": 34
        }
      },
      "cell_type": "code",
      "source": [
        "review_sentence_embeddings = []\n",
        "with tf.Session() as session:\n",
        "  session.run([tf.global_variables_initializer(), tf.tables_initializer()])\n",
        "  review_sentence_embeddings = session.run(embed(sentences))"
      ],
      "execution_count": 32,
      "outputs": [
        {
          "output_type": "stream",
          "text": [
            "INFO:tensorflow:Saver not created because there are no variables in the graph to restore\n"
          ],
          "name": "stdout"
        }
      ]
    },
    {
      "metadata": {
        "colab_type": "code",
        "id": "dHPwdw5sMQyn",
        "colab": {}
      },
      "cell_type": "code",
      "source": [
        "gmm = GaussianMixture(n_components=10, covariance_type='full').fit(review_sentence_embeddings)"
      ],
      "execution_count": 0,
      "outputs": []
    },
    {
      "metadata": {
        "colab_type": "code",
        "id": "4kl-MPyAMbMM",
        "colab": {}
      },
      "cell_type": "code",
      "source": [
        "sim = cosine_similarity(review_sentence_embeddings, gmm.means_)\n",
        "extractive_means = sim.argmax(axis=0)"
      ],
      "execution_count": 0,
      "outputs": []
    },
    {
      "metadata": {
        "colab_type": "code",
        "id": "xuQAWptoMjhG",
        "outputId": "f12f7522-4a08-4067-ffbb-2cd952f2f682",
        "colab": {
          "base_uri": "https://localhost:8080/",
          "height": 377
        }
      },
      "cell_type": "code",
      "source": [
        "for i in extractive_means:\n",
        "  print(sentences[i] + '\\n')"
      ],
      "execution_count": 38,
      "outputs": [
        {
          "output_type": "stream",
          "text": [
            "THIS ALBUM IS AT BEST:\n",
            "\n",
            "Still, a lot of fans voiced their displeasure about the Load/Reload albums, so Metallica made an album that \"went back to their roots\".\n",
            "\n",
            "And thats just what you get with St. Anger.\n",
            "\n",
            "St. Anger is better than all of Metallica's albums combined.\n",
            "\n",
            "It's not like anything they've done before.\n",
            "\n",
            "The lyrics are horrendous, and all the songs are unbelievably repetetive.\n",
            "\n",
            "I bought this CD the day it came out thinking, this is Metallica-\n",
            "\n",
            "The new Metallica isn't as awesome as the old Metallica\n",
            "\n",
            "The snare sounds like Lars is banging on a garbage can, and there's NOT ONE GUITAR SOLO on the record.  \n",
            "\n",
            "That is all.\n",
            "\n"
          ],
          "name": "stdout"
        }
      ]
    }
  ]
}