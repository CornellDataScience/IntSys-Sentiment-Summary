{
 "cells": [
  {
   "cell_type": "code",
   "execution_count": 0,
   "metadata": {
    "colab": {},
    "colab_type": "code",
    "collapsed": true,
    "id": "CGDOrQfktWV8"
   },
   "outputs": [],
   "source": [
    "import tensorflow as tf\n",
    "import tensorflow_hub as hub"
   ]
  },
  {
   "cell_type": "code",
   "execution_count": 0,
   "metadata": {
    "colab": {},
    "colab_type": "code",
    "collapsed": true,
    "id": "Gu0VMs-mtfwC"
   },
   "outputs": [],
   "source": [
    "import json\n",
    "import spacy\n",
    "import numpy as np\n",
    "import pandas as pd\n",
    "import gzip\n",
    "from sklearn.mixture import GaussianMixture\n",
    "from sklearn.metrics.pairwise import cosine_similarity"
   ]
  },
  {
   "cell_type": "code",
   "execution_count": 0,
   "metadata": {
    "colab": {},
    "colab_type": "code",
    "collapsed": true,
    "id": "ZDKyish7tk4_"
   },
   "outputs": [],
   "source": [
    "def parse(path):\n",
    "    g = gzip.open(path, 'rb')\n",
    "    for l in g:\n",
    "        yield eval(l)\n",
    "\n",
    "def getDF(path):\n",
    "    i = 0\n",
    "    df = {}\n",
    "    for d in parse(path):\n",
    "        df[i] = d\n",
    "        i += 1\n",
    "    return pd.DataFrame.from_dict(df, orient='index')"
   ]
  },
  {
   "cell_type": "code",
   "execution_count": 0,
   "metadata": {
    "colab": {},
    "colab_type": "code",
    "collapsed": true,
    "id": "1OO8o68ot3sF"
   },
   "outputs": [],
   "source": [
    "df = getDF('reviews_CDs_and_Vinyl_5.json.gz')"
   ]
  },
  {
   "cell_type": "markdown",
   "metadata": {
    "colab_type": "text",
    "id": "CiziMDHMDsrx"
   },
   "source": [
    "# Baseline Experiments\n",
    "## Review level"
   ]
  },
  {
   "cell_type": "markdown",
   "metadata": {
    "colab_type": "text",
    "id": "eDmZWsVZC7L4"
   },
   "source": [
    "### Get review text from product with maximum number of reviews"
   ]
  },
  {
   "cell_type": "code",
   "execution_count": 0,
   "metadata": {
    "colab": {},
    "colab_type": "code",
    "collapsed": true,
    "id": "MWN6ppi70UgB"
   },
   "outputs": [],
   "source": [
    "products = df.groupby('asin')\n",
    "popular_product = products.get_group(max([(name,len(g)) for name, g in products], key=lambda x: x[1])[0])\n",
    "text = popular_product.reviewText.values.tolist()"
   ]
  },
  {
   "cell_type": "markdown",
   "metadata": {
    "colab_type": "text",
    "id": "l8d5rcHNDNUr"
   },
   "source": [
    "### Get the embeddings"
   ]
  },
  {
   "cell_type": "code",
   "execution_count": 10,
   "metadata": {
    "colab": {
     "base_uri": "https://localhost:8080/",
     "height": 156
    },
    "colab_type": "code",
    "id": "z4tebafpuHMi",
    "outputId": "74d10247-3da3-4530-9335-750d779748a2"
   },
   "outputs": [
    {
     "name": "stdout",
     "output_type": "stream",
     "text": [
      "INFO:tensorflow:Using /tmp/tfhub_modules to cache modules.\n",
      "INFO:tensorflow:Downloading TF-Hub Module 'https://tfhub.dev/google/universal-sentence-encoder/2'.\n",
      "INFO:tensorflow:Downloaded https://tfhub.dev/google/universal-sentence-encoder/2, Total size: 993.27MB\n",
      "INFO:tensorflow:Downloaded TF-Hub Module 'https://tfhub.dev/google/universal-sentence-encoder/2'.\n",
      "WARNING:tensorflow:From /usr/local/lib/python3.6/dist-packages/tensorflow/python/ops/control_flow_ops.py:3632: colocate_with (from tensorflow.python.framework.ops) is deprecated and will be removed in a future version.\n",
      "Instructions for updating:\n",
      "Colocations handled automatically by placer.\n"
     ]
    }
   ],
   "source": [
    "module_url = \"https://tfhub.dev/google/universal-sentence-encoder/2\"\n",
    "embed = hub.Module(module_url)"
   ]
  },
  {
   "cell_type": "code",
   "execution_count": 11,
   "metadata": {
    "colab": {
     "base_uri": "https://localhost:8080/",
     "height": 34
    },
    "colab_type": "code",
    "id": "N1RZXwPQuakM",
    "outputId": "d7f3a91e-46f8-4108-a426-f65ad1567da9"
   },
   "outputs": [
    {
     "name": "stdout",
     "output_type": "stream",
     "text": [
      "INFO:tensorflow:Saver not created because there are no variables in the graph to restore\n"
     ]
    }
   ],
   "source": [
    "with tf.Session() as session:\n",
    "  session.run([tf.global_variables_initializer(), tf.tables_initializer()])\n",
    "  message_embeddings = session.run(embed(text))"
   ]
  },
  {
   "cell_type": "code",
   "execution_count": 12,
   "metadata": {
    "colab": {
     "base_uri": "https://localhost:8080/",
     "height": 238
    },
    "colab_type": "code",
    "id": "aGJtgTmM0VAX",
    "outputId": "3e362045-76d7-4352-fb0f-120f60a0ead2"
   },
   "outputs": [
    {
     "data": {
      "text/plain": [
       "array([[-0.00498599,  0.05155576, -0.05256446, ..., -0.01323828,\n",
       "        -0.0153173 , -0.02197886],\n",
       "       [ 0.03496033,  0.00148476, -0.03304245, ...,  0.02228946,\n",
       "        -0.05228505, -0.04375076],\n",
       "       [ 0.01388276,  0.0456822 , -0.04915727, ...,  0.01008371,\n",
       "        -0.0022106 , -0.00903768],\n",
       "       ...,\n",
       "       [-0.00988192,  0.04619836, -0.05654455, ..., -0.01586402,\n",
       "        -0.01399377, -0.05667837],\n",
       "       [-0.00270829,  0.03226892, -0.03778088, ...,  0.00980518,\n",
       "        -0.04636449, -0.01610075],\n",
       "       [ 0.03276125,  0.03607516, -0.01833413, ...,  0.05066476,\n",
       "        -0.01203018, -0.02806881]], dtype=float32)"
      ]
     },
     "execution_count": 12,
     "metadata": {
      "tags": []
     },
     "output_type": "execute_result"
    }
   ],
   "source": [
    "message_embeddings"
   ]
  },
  {
   "cell_type": "markdown",
   "metadata": {
    "colab_type": "text",
    "id": "AQfR1cDRDdjy"
   },
   "source": [
    "### Cluster"
   ]
  },
  {
   "cell_type": "code",
   "execution_count": 0,
   "metadata": {
    "colab": {},
    "colab_type": "code",
    "collapsed": true,
    "id": "6DibQU_S02Qh"
   },
   "outputs": [],
   "source": [
    "gmm = GaussianMixture(n_components=5, covariance_type='full').fit(message_embeddings)"
   ]
  },
  {
   "cell_type": "code",
   "execution_count": 17,
   "metadata": {
    "colab": {
     "base_uri": "https://localhost:8080/",
     "height": 187
    },
    "colab_type": "code",
    "id": "baSPcO5z1zH0",
    "outputId": "1d99934c-5a75-4236-faab-cfe23b36bd95"
   },
   "outputs": [
    {
     "data": {
      "text/plain": [
       "array([[ 0.0254046 ,  0.01624447, -0.01004937, ...,  0.02196262,\n",
       "        -0.02832562, -0.01827429],\n",
       "       [ 0.01906499,  0.04080193, -0.02449171, ...,  0.01928638,\n",
       "        -0.0036682 , -0.00419977],\n",
       "       [ 0.02626117,  0.02270613, -0.00379469, ..., -0.00520202,\n",
       "        -0.01269296, -0.0205925 ],\n",
       "       [ 0.00029728,  0.03857949, -0.04102213, ..., -0.00283053,\n",
       "        -0.00977061, -0.02468293],\n",
       "       [-0.0184448 ,  0.02326936, -0.03310357, ..., -0.01294109,\n",
       "        -0.02420212, -0.02919825]])"
      ]
     },
     "execution_count": 17,
     "metadata": {
      "tags": []
     },
     "output_type": "execute_result"
    }
   ],
   "source": [
    "gmm.means_"
   ]
  },
  {
   "cell_type": "markdown",
   "metadata": {
    "colab_type": "text",
    "id": "DSK5EPNGDgNp"
   },
   "source": [
    "### Extract"
   ]
  },
  {
   "cell_type": "code",
   "execution_count": 0,
   "metadata": {
    "colab": {},
    "colab_type": "code",
    "collapsed": true,
    "id": "BujRBhoi10Zt"
   },
   "outputs": [],
   "source": [
    "sim = cosine_similarity(message_embeddings, gmm.means_)"
   ]
  },
  {
   "cell_type": "code",
   "execution_count": 0,
   "metadata": {
    "colab": {},
    "colab_type": "code",
    "collapsed": true,
    "id": "wPSCKxuc4v2M"
   },
   "outputs": [],
   "source": [
    "extractive_means = sim.argmax(axis=0)"
   ]
  },
  {
   "cell_type": "code",
   "execution_count": 26,
   "metadata": {
    "colab": {
     "base_uri": "https://localhost:8080/",
     "height": 207
    },
    "colab_type": "code",
    "id": "ed0lLcdG5OX4",
    "outputId": "b85faadf-b933-48b7-fd62-363432d45be4"
   },
   "outputs": [
    {
     "name": "stdout",
     "output_type": "stream",
     "text": [
      "For as long as it's been since the last album, you would think this album would just blow you over. It doesn't even come close. I love Metallica, old and new, but this album is just a blistering mess. First of all, I think the hearing loss must be getting to the guys because this album is mixed horribly. The drums sound like Lars recorded them while playing in a tin can, and the guitars are so muddy and indistinct that you can discern what the hell is going on. The lyrics are horrendous, and all the songs are unbelievably repetetive. Yeah, they're all 10 minutes long, but after 3, you've heard everything, and it just repeats, and repeats, and repeats. I guess the truly die hard fans might love this new sound, but I couldn't be more disappointed. There are no epics, no great songs like Metallica of old, nor anything catchy or intricate like their newer stuff. This is just garbage....beware.\n",
      "\n",
      "I am a long time Metallica fan. Even though Load and Reload were disppointing, I respected the effort to reinvent themselves, even though the outcome was mediocre. I also am not stuck in a vision of what Metallica \"ought\" to be. Bands SHOULD try new things and I respect Metallica for not trying to duplicate Master of Puppets and Justice ad nauseum. HOWEVER. This album is simply awful. The songs are depressing and morose at best. Metallica could always be counted on the have great sound and performance. Even though the Black album was rather commercial, one still had to respect how good the songs and playing were. It was like listening to a massive wave of power and groove. St. Anger is nothing but a collection of confused riffs with awful sound, trying to emulate what is new and young. This is tragic. Metallica have always prided themselves on being themselves and not following trends. On this effort, they are simply trying to fit in to the Nu-Metal scene...and they fail miserably. Throw in the ego-maniacal movie they made, and the propulsion of their egos into the stratosphere is complete. These guys have no more focus or hunger. They disrespect their craft and fans with products such as these. I agree with many other reviews that Dave Mustaine has had the last laugh with The System Has Failed, a truly remarkable and terrific album.\n",
      "\n",
      "My first thought upon hearing the new Metallica disc was, \"Did somebody slip a different CD into the case and fiendishly re-wrap it, replacing it on the rack before I bought it?\" After forcing myself to listen to mindless riff after mindless riff and \"Animal\" like drumming for an hour, my next thought was, \"Man, I wish somebody would have replaced this CD with another one...any CD...I don't care!\"I wish this was an exaggeration, but the real truth is:I now am the proud owner of a 15 dollar \"St. Anger\" drink coaster. And although it has a charm all its own, I'd much rather have another kick [rear] Metallica CD. Instead, I'm left with a band that is devoid of any distinctive sound, not to mention - a decent song.The real sad part is they probably spent a cool million dollars making a record that sounds like it was recorded in a bathroom. This album with either be the last of their illustious career (and after listening to it, maybe it should be) or an ill advised mistake they'll spend years trying to live down.\n",
      "\n",
      "Let's start with the fact that this album sounds bad, before we even touch on the fact that it is, in fact, the worst Metallica record ever produced. Metallica latest effort tries to reclaim the glory years, unfortunately the group forgot those years. The one thing on the album that annoyed me the most was the snare drums. They had a tinny, echoing quality that resonates irritatingly into the hard pauses and penetrates even the full symphony of instruments. Also, Kirk Hammet's axe work was mixed unbelievably far back into the album's mix, it's virtually non-existent. Hetfield's voice is an absolute mess. A few of the tracks here, which do honestly attempt to elevate the band back to thrash, are relatively listenable until the vocals come in. The lyrics in some of the songs are just plain silly. One example is Shoot Me Again. Hetfield bellows over and over \"Shoot me again, until I'm dead\" I just shook my head in disbelief. My how the mighty have fallen. The production is terrible as Bob Rock tried to give the band a rawer sound, unfortunately it backfired big time.A lot of hype has been made about the fact that St. Anger is a return to the band's older days. But what all of this assumes is that the older days can be replicated with a few heavy riffs and killer drum fills. That assumption begs for a lot and the fact that this album is full of poor lyrics that are poorly sung, all atop a poor mix of instrumentals. In my opinion, Metallica has hit rock bottom.\n",
      "\n",
      "Metallica's best album was Kill Em' All. Let's face it folks, Metallica was on a downfall from every album after their debut. Should this album, after the poppy alternenative rock on Load/Reload, be just the same old Alternica? No.This CD is so fast, loud, and hard hitting, that whenever I listen to it, I get a pounding headache. A good feeling headache.Sure, James Hetfield sounds like he's been to hell and back, the drums sound like they've turned into tin, and the songwriting is uninspired, but does that really matter? No, as long as there are no 4 minute radio friendly songs.Most of the reviewers have probably listened to the album once and decided they hate it. I listened to it about 3 times, and after the excrutiating first listen ...the songs started to grow on me. This is probably the best Metallica album since Kill Em' All of course.Bottom Line: They deserve to be called Metallica now. 75 minutes of pure, headache inducing power.\n",
      "\n"
     ]
    }
   ],
   "source": [
    "for i in extractive_means:\n",
    "  print(text[i] + '\\n')"
   ]
  },
  {
   "cell_type": "markdown",
   "metadata": {
    "colab_type": "text",
    "id": "bVSr6OnhIpA0"
   },
   "source": [
    "## Sentence Level"
   ]
  },
  {
   "cell_type": "code",
   "execution_count": 0,
   "metadata": {
    "colab": {},
    "colab_type": "code",
    "collapsed": true,
    "id": "UHPj4kuS5erp"
   },
   "outputs": [],
   "source": [
    "spacy.prefer_gpu()\n",
    "nlp = spacy.load('en_core_web_sm')"
   ]
  },
  {
   "cell_type": "markdown",
   "metadata": {
    "colab_type": "text",
    "id": "FpGq29QtJWc5"
   },
   "source": [
    "### Perform sentence segmentation"
   ]
  },
  {
   "cell_type": "code",
   "execution_count": 0,
   "metadata": {
    "colab": {},
    "colab_type": "code",
    "collapsed": true,
    "id": "GIw7T0VeJAg8"
   },
   "outputs": [],
   "source": [
    "sentences = []\n",
    "for review in text:\n",
    "  doc = nlp(review)\n",
    "  for sent in doc.sents:\n",
    "    sentences.append(sent.text)"
   ]
  },
  {
   "cell_type": "code",
   "execution_count": 32,
   "metadata": {
    "colab": {
     "base_uri": "https://localhost:8080/",
     "height": 207
    },
    "colab_type": "code",
    "id": "K33EGpTLKPBL",
    "outputId": "2bba8f13-763f-447e-c1ca-e1faf85069f8"
   },
   "outputs": [
    {
     "data": {
      "text/plain": [
       "['Without a doubt, Metallica are the godfathers of thrash metal.',\n",
       " \"More so than any modern band, Metallica has been influential in shaping the course and growth of metal from their early days back in the 1980's to the present.\",\n",
       " 'Perhaps the best compliment that can be paid to Metallica is the fact that, at 40+ years-of-age, they have been able to remain relevant in an industry (music) that is dominated and defined by the interests of the youth.',\n",
       " 'Metallica\\'s early career was defined by four albums which could stand as the defining elements of the thrash metal genre (i.e., \"Kill em All\" through \"...',\n",
       " 'And Justice for All\").',\n",
       " 'Following \"...',\n",
       " 'And Justice for All,\" Metallica entered a period of producing music that, although well written, seemed to abandon their thrash metal roots.',\n",
       " 'As any true fan of Metallica and thrash metal know, Metallica endured some fairly harsh criticism for \"softening up.\"',\n",
       " 'However, with \"St. Anger\" Metallica reposition themselves firmly within the aggressive genre of music that they help create. \"',\n",
       " 'St. Anger\" is truly a brutal, fast, and aggressive album.']"
      ]
     },
     "execution_count": 32,
     "metadata": {
      "tags": []
     },
     "output_type": "execute_result"
    }
   ],
   "source": [
    "sentences[:10]"
   ]
  },
  {
   "cell_type": "markdown",
   "metadata": {
    "colab_type": "text",
    "id": "UnKA9KWfMSR7"
   },
   "source": [
    "### Proceed as before"
   ]
  },
  {
   "cell_type": "code",
   "execution_count": 33,
   "metadata": {
    "colab": {
     "base_uri": "https://localhost:8080/",
     "height": 34
    },
    "colab_type": "code",
    "id": "zL_eRRW1J2sW",
    "outputId": "cd31f326-c720-4040-e0e2-8b5770056c3e"
   },
   "outputs": [
    {
     "name": "stdout",
     "output_type": "stream",
     "text": [
      "INFO:tensorflow:Saver not created because there are no variables in the graph to restore\n"
     ]
    }
   ],
   "source": [
    "review_sentence_embeddings = []\n",
    "with tf.Session() as session:\n",
    "  session.run([tf.global_variables_initializer(), tf.tables_initializer()])\n",
    "  review_sentence_embeddings = session.run(embed(sentences))"
   ]
  },
  {
   "cell_type": "code",
   "execution_count": 0,
   "metadata": {
    "colab": {},
    "colab_type": "code",
    "collapsed": true,
    "id": "dHPwdw5sMQyn"
   },
   "outputs": [],
   "source": [
    "gmm = GaussianMixture(n_components=20, covariance_type='full').fit(review_sentence_embeddings)"
   ]
  },
  {
   "cell_type": "code",
   "execution_count": 0,
   "metadata": {
    "colab": {},
    "colab_type": "code",
    "collapsed": true,
    "id": "4kl-MPyAMbMM"
   },
   "outputs": [],
   "source": [
    "sim = cosine_similarity(review_sentence_embeddings, gmm.means_)\n",
    "extractive_means = sim.argmax(axis=0)"
   ]
  },
  {
   "cell_type": "code",
   "execution_count": 40,
   "metadata": {
    "colab": {
     "base_uri": "https://localhost:8080/",
     "height": 717
    },
    "colab_type": "code",
    "id": "xuQAWptoMjhG",
    "outputId": "5728ab7b-5de3-48c3-9860-db70b1fe02ba"
   },
   "outputs": [
    {
     "name": "stdout",
     "output_type": "stream",
     "text": [
      "It's not like anything they've done before.\n",
      "\n",
      "Backing up the awful drums are a whole lot of awful guitar noises.\n",
      "\n",
      "The new Metallica isn't as awesome as the old Metallica\n",
      "\n",
      "I mean it is terrible!\n",
      "\n",
      ", then it goes into a nice little riff.\n",
      "\n",
      "However, \"St. Anger\" is just awful.\n",
      "\n",
      "death the grunde riffs and the bess\n",
      "\n",
      "SO\n",
      "\n",
      "I applaud Metallica's approach of including a bonus DVD for the price of one CD.  \n",
      "\n",
      "I mean, really.\n",
      "\n",
      "The lyrics are horrendous, and all the songs are unbelievably repetetive.\n",
      "\n",
      "I have always been a huge Metallica fan and while I found parts of this album to be refreshing and almost true to the old school Metallica albums, it was lacking something.\n",
      "\n",
      "In addition, Lars Ulrich sounds like he's playing the EXACT same beat on every song.\n",
      "\n",
      "THIS ALBUM IS AT BEST:\n",
      "\n",
      "\"St.\n",
      "\n",
      "For those fans who have shyed away from Metallica because of recent disagreements about their creative process, or the belief that the guys were in some way &quot;selling-out&quot; in the industry, this album should be a pleasant suprise.  \n",
      "\n",
      "I thought I'd write a review for this from seeing how much people bashed it.  \n",
      "\n",
      "That's all I can say.  \n",
      "\n",
      "Although I will admit that the lyrics are a bit weak and maybe some of the sounds they have, and the fact that it's not the best quality, but Metallica mixes their old metal with type of modern-day metal that you can hear today from bands like KoRn or System Of A Down.\n",
      "\n",
      "dirty window has very catchy guitar riffs, and the vocals go right with it..unnamed feeling is the best song Tallica has ever written in a long time, nuff said about that song, just listen to it and u will be amazed.\n",
      "\n"
     ]
    }
   ],
   "source": [
    "for i in extractive_means:\n",
    "  print(sentences[i] + '\\n')"
   ]
  },
  {
   "cell_type": "code",
   "execution_count": 0,
   "metadata": {
    "colab": {},
    "colab_type": "code",
    "collapsed": true,
    "id": "LL_fx702MpYT"
   },
   "outputs": [],
   "source": []
  }
 ],
 "metadata": {
  "colab": {
   "name": "Baseline.ipynb",
   "provenance": [],
   "version": "0.3.2"
  },
  "kernelspec": {
   "display_name": "Python 3",
   "language": "python",
   "name": "python3"
  },
  "language_info": {
   "codemirror_mode": {
    "name": "ipython",
    "version": 3
   },
   "file_extension": ".py",
   "mimetype": "text/x-python",
   "name": "python",
   "nbconvert_exporter": "python",
   "pygments_lexer": "ipython3",
   "version": "3.6.1"
  }
 },
 "nbformat": 4,
 "nbformat_minor": 1
}
