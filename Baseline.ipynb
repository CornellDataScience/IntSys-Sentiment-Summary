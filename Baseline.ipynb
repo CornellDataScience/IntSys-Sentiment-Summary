{
 "cells": [
  {
   "cell_type": "code",
   "execution_count": 0,
   "metadata": {
    "colab": {},
    "colab_type": "code",
    "collapsed": true,
    "id": "CGDOrQfktWV8"
   },
   "outputs": [],
   "source": [
    "import tensorflow as tf\n",
    "import tensorflow_hub as hub"
   ]
  },
  {
   "cell_type": "code",
   "execution_count": 0,
   "metadata": {
    "colab": {},
    "colab_type": "code",
    "collapsed": true,
    "id": "Gu0VMs-mtfwC"
   },
   "outputs": [],
   "source": [
    "import json\n",
    "import spacy\n",
    "import numpy as np\n",
    "import pandas as pd\n",
    "import gzip\n",
    "from sklearn.mixture import GaussianMixture\n",
    "from sklearn.metrics.pairwise import cosine_similarity"
   ]
  },
  {
   "cell_type": "code",
   "execution_count": 0,
   "metadata": {
    "colab": {},
    "colab_type": "code",
    "collapsed": true,
    "id": "ZDKyish7tk4_"
   },
   "outputs": [],
   "source": [
    "def parse(path):\n",
    "    g = gzip.open(path, 'rb')\n",
    "    for l in g:\n",
    "        yield eval(l)\n",
    "\n",
    "def getDF(path):\n",
    "    i = 0\n",
    "    df = {}\n",
    "    for d in parse(path):\n",
    "        df[i] = d\n",
    "        i += 1\n",
    "    return pd.DataFrame.from_dict(df, orient='index')"
   ]
  },
  {
   "cell_type": "code",
   "execution_count": 0,
   "metadata": {
    "colab": {},
    "colab_type": "code",
    "collapsed": true,
    "id": "1OO8o68ot3sF"
   },
   "outputs": [],
   "source": [
    "df = getDF('reviews_CDs_and_Vinyl_5.json.gz')"
   ]
  },
  {
   "cell_type": "markdown",
   "metadata": {
    "colab_type": "text",
    "id": "CiziMDHMDsrx"
   },
   "source": [
    "# Baseline Experiments\n",
    "## Review level"
   ]
  },
  {
   "cell_type": "markdown",
   "metadata": {
    "colab_type": "text",
    "id": "eDmZWsVZC7L4"
   },
   "source": [
    "### Get review text from product with maximum number of reviews"
   ]
  },
  {
   "cell_type": "code",
   "execution_count": 0,
   "metadata": {
    "colab": {},
    "colab_type": "code",
    "collapsed": true,
    "id": "MWN6ppi70UgB"
   },
   "outputs": [],
   "source": [
    "products = df.groupby('asin')\n",
    "popular_product = products.get_group(max([(name,len(g)) for name, g in products], key=lambda x: x[1])[0])\n",
    "text = popular_product.reviewText.values.tolist()"
   ]
  },
  {
   "cell_type": "markdown",
   "metadata": {
    "colab_type": "text",
    "id": "l8d5rcHNDNUr"
   },
   "source": [
    "### Get the embeddings"
   ]
  },
  {
   "cell_type": "code",
   "execution_count": 10,
   "metadata": {
    "colab": {
      "name": "Baseline.ipynb",
      "version": "0.3.2",
      "provenance": [],
      "collapsed_sections": [],
      "toc_visible": true
    },
    "kernelspec": {
      "display_name": "Python 3",
      "language": "python",
      "name": "python3"
    }
   ],
   "source": [
    "module_url = \"https://tfhub.dev/google/universal-sentence-encoder/2\"\n",
    "embed = hub.Module(module_url)"
   ]
  },
  "cells": [
    {
      "metadata": {
        "colab_type": "code",
        "id": "CGDOrQfktWV8",
        "colab": {
          "base_uri": "https://localhost:8080/",
          "height": 71
        },
        "outputId": "1efecaf8-aa00-4885-f9c2-798521c951e8"
      },
      "cell_type": "code",
      "source": [
        "import tensorflow as tf\n",
        "import tensorflow_hub as hub"
      ],
      "execution_count": 8,
      "outputs": [
        {
          "output_type": "stream",
          "text": [
            "WARNING: Logging before flag parsing goes to stderr.\n",
            "W0306 18:22:09.787772 139690911184768 __init__.py:56] Some hub symbols are not available because TensorFlow version is less than 1.14\n"
          ],
          "name": "stderr"
        }
      ]
    },
    {
      "metadata": {
        "colab_type": "code",
        "id": "Gu0VMs-mtfwC",
        "colab": {}
      },
      "cell_type": "code",
      "source": [
        "import json\n",
        "import spacy\n",
        "import numpy as np\n",
        "import pandas as pd\n",
        "import gzip\n",
        "from sklearn.mixture import GaussianMixture\n",
        "from sklearn.mixture import BayesianGaussianMixture\n",
        "from sklearn.metrics.pairwise import cosine_similarity"
      ],
      "execution_count": 0,
      "outputs": []
    },
    {
      "metadata": {
        "colab_type": "code",
        "id": "ZDKyish7tk4_",
        "colab": {}
      },
      "cell_type": "code",
      "source": [
        "def parse(path):\n",
        "    g = gzip.open(path, 'rb')\n",
        "    for l in g:\n",
        "        yield eval(l)\n",
        "\n",
        "def getDF(path):\n",
        "    i = 0\n",
        "    df = {}\n",
        "    for d in parse(path):\n",
        "        df[i] = d\n",
        "        i += 1\n",
        "    return pd.DataFrame.from_dict(df, orient='index')"
      ],
      "execution_count": 0,
      "outputs": []
    },
    {
      "metadata": {
        "id": "zngfRjrCUKEQ",
        "colab_type": "code",
        "colab": {
          "base_uri": "https://localhost:8080/",
          "height": 122
        },
        "outputId": "49d95a34-c04d-486e-afe2-774b6ae3424f"
      },
      "cell_type": "code",
      "source": [
        "from google.colab import drive\n",
        "drive.mount('/content/drive')"
      ],
      "execution_count": 4,
      "outputs": [
        {
          "output_type": "stream",
          "text": [
            "Go to this URL in a browser: https://accounts.google.com/o/oauth2/auth?client_id=947318989803-6bn6qk8qdgf4n4g3pfee6491hc0brc4i.apps.googleusercontent.com&redirect_uri=urn%3Aietf%3Awg%3Aoauth%3A2.0%3Aoob&scope=email%20https%3A%2F%2Fwww.googleapis.com%2Fauth%2Fdocs.test%20https%3A%2F%2Fwww.googleapis.com%2Fauth%2Fdrive%20https%3A%2F%2Fwww.googleapis.com%2Fauth%2Fdrive.photos.readonly%20https%3A%2F%2Fwww.googleapis.com%2Fauth%2Fpeopleapi.readonly&response_type=code\n",
            "\n",
            "Enter your authorization code:\n",
            "··········\n",
            "Mounted at /content/drive\n"
          ],
          "name": "stdout"
        }
      ]
    },
    {
      "metadata": {
        "id": "E_x31uJgQq3z",
        "colab_type": "text"
      },
      "cell_type": "markdown",
      "source": [
        ""
      ]
    },
    {
      "metadata": {
        "colab_type": "code",
        "id": "1OO8o68ot3sF",
        "colab": {}
      },
      "cell_type": "code",
      "source": [
        "#have dataset in google cloud storage\n",
        "df = getDF('/content/drive/My Drive/reviews_CDs_and_Vinyl_5.json.gz')"
      ],
      "execution_count": 0,
      "outputs": []
    },
    {
      "metadata": {
        "colab_type": "text",
        "id": "CiziMDHMDsrx"
      },
      "cell_type": "markdown",
      "source": [
        "# Baseline Experiments\n",
        "## Review level"
      ]
    },
    {
      "metadata": {
        "colab_type": "text",
        "id": "eDmZWsVZC7L4"
      },
      "cell_type": "markdown",
      "source": [
        "### Get review text from product with maximum number of reviews"
      ]
    },
    {
      "metadata": {
        "colab_type": "code",
        "id": "MWN6ppi70UgB",
        "colab": {}
      },
      "cell_type": "code",
      "source": [
        "products = df.groupby('asin')\n",
        "popular_product = products.get_group(max([(name,len(g)) for name, g in products], key=lambda x: x[1])[0])\n",
        "text = popular_product.reviewText.values.tolist()"
      ],
      "execution_count": 0,
      "outputs": []
    },
    {
      "metadata": {
        "colab_type": "text",
        "id": "l8d5rcHNDNUr"
      },
      "cell_type": "markdown",
      "source": [
        "### Get the embeddings"
      ]
    },
    {
      "metadata": {
        "colab_type": "code",
        "id": "z4tebafpuHMi",
        "outputId": "ce8f7124-6f8a-495b-dae8-d7b816b8c49b",
        "colab": {
          "base_uri": "https://localhost:8080/",
          "height": 139
        }
      },
      "cell_type": "code",
      "source": [
        "module_url = \"https://tfhub.dev/google/universal-sentence-encoder/2\"\n",
        "embed = hub.Module(module_url)"
      ],
      "execution_count": 9,
      "outputs": [
        {
          "output_type": "stream",
          "text": [
            "WARNING:tensorflow:From /usr/local/lib/python3.6/dist-packages/tensorflow/python/ops/control_flow_ops.py:3632: colocate_with (from tensorflow.python.framework.ops) is deprecated and will be removed in a future version.\n",
            "Instructions for updating:\n",
            "Colocations handled automatically by placer.\n"
          ],
          "name": "stdout"
        },
        {
          "output_type": "stream",
          "text": [
            "W0306 18:22:32.983294 139690911184768 deprecation.py:323] From /usr/local/lib/python3.6/dist-packages/tensorflow/python/ops/control_flow_ops.py:3632: colocate_with (from tensorflow.python.framework.ops) is deprecated and will be removed in a future version.\n",
            "Instructions for updating:\n",
            "Colocations handled automatically by placer.\n"
          ],
          "name": "stderr"
        }
      ]
    },
    {
      "metadata": {
        "colab_type": "code",
        "id": "N1RZXwPQuakM",
        "outputId": "57429fbb-9082-4d2e-8a81-1b54dba6b131",
        "colab": {
          "base_uri": "https://localhost:8080/",
          "height": 71
        }
      },
      "cell_type": "code",
      "source": [
        "with tf.Session() as session:\n",
        "  session.run([tf.global_variables_initializer(), tf.tables_initializer()])\n",
        "  message_embeddings = session.run(embed(text))"
      ],
      "execution_count": 10,
      "outputs": [
        {
          "output_type": "stream",
          "text": [
            "INFO:tensorflow:Saver not created because there are no variables in the graph to restore\n"
          ],
          "name": "stdout"
        },
        {
          "output_type": "stream",
          "text": [
            "I0306 18:22:50.294073 139690911184768 saver.py:1483] Saver not created because there are no variables in the graph to restore\n"
          ],
          "name": "stderr"
        }
      ]
    },
    {
      "metadata": {
        "colab_type": "code",
        "id": "aGJtgTmM0VAX",
        "outputId": "7530b272-3c80-4928-c92e-1bc0f86a0a9c",
        "colab": {
          "base_uri": "https://localhost:8080/",
          "height": 238
        }
      },
      "cell_type": "code",
      "source": [
        "message_embeddings"
      ],
      "execution_count": 11,
      "outputs": [
        {
          "output_type": "execute_result",
          "data": {
            "text/plain": [
              "array([[-0.00498599,  0.05155576, -0.05256446, ..., -0.01323828,\n",
              "        -0.0153173 , -0.02197886],\n",
              "       [ 0.03496033,  0.00148476, -0.03304245, ...,  0.02228946,\n",
              "        -0.05228505, -0.04375076],\n",
              "       [ 0.01388276,  0.0456822 , -0.04915727, ...,  0.01008371,\n",
              "        -0.0022106 , -0.00903768],\n",
              "       ...,\n",
              "       [-0.00988192,  0.04619836, -0.05654455, ..., -0.01586402,\n",
              "        -0.01399377, -0.05667837],\n",
              "       [-0.00270829,  0.03226892, -0.03778088, ...,  0.00980518,\n",
              "        -0.04636449, -0.01610075],\n",
              "       [ 0.03276125,  0.03607516, -0.01833413, ...,  0.05066476,\n",
              "        -0.01203018, -0.02806881]], dtype=float32)"
            ]
          },
          "metadata": {
            "tags": []
          },
          "execution_count": 11
        }
      ]
    },
    {
      "metadata": {
        "colab_type": "text",
        "id": "AQfR1cDRDdjy"
      },
      "cell_type": "markdown",
      "source": [
        "### Cluster"
      ]
    },
    {
      "metadata": {
        "colab_type": "code",
        "id": "6DibQU_S02Qh",
        "colab": {}
      },
      "cell_type": "code",
      "source": [
        "gmm = GaussianMixture(n_components=5, covariance_type='full').fit(message_embeddings)\n",
        "bgmm = BayesianGaussianMixture(n_components=5, covariance_type='full').fit(message_embeddings)"
      ],
      "execution_count": 0,
      "outputs": []
    },
    {
      "metadata": {
        "colab_type": "code",
        "id": "baSPcO5z1zH0",
        "outputId": "d915e441-0392-42b9-f5a1-e7e5f9634d38",
        "colab": {
          "base_uri": "https://localhost:8080/",
          "height": 391
        }
      },
      "cell_type": "code",
      "source": [
        "print(gmm.means_)\n",
        "print(\"\\n\")\n",
        "print(bgmm.means_)"
      ],
      "execution_count": 15,
      "outputs": [
        {
          "output_type": "stream",
          "text": [
            "[[ 0.02278658  0.04288379 -0.02118349 ...  0.02412706 -0.0031481\n",
            "   0.00193468]\n",
            " [ 0.02711281  0.01696869 -0.00613225 ...  0.01061289 -0.02331914\n",
            "  -0.02228822]\n",
            " [ 0.00340407  0.03937786 -0.04010922 ... -0.00098823 -0.00639118\n",
            "  -0.02320368]\n",
            " [ 0.00389405  0.02929762 -0.02732909 ... -0.00195    -0.01220097\n",
            "  -0.02560425]\n",
            " [-0.02564614  0.02194451 -0.0355709  ... -0.01663843 -0.03202243\n",
            "  -0.02688819]]\n",
            "\n",
            "\n",
            "[[-0.02825049  0.02825464 -0.03759589 ... -0.01660702 -0.0217114\n",
            "  -0.0316353 ]\n",
            " [ 0.01798897  0.01356761 -0.010714   ...  0.00507213 -0.02987093\n",
            "  -0.02259343]\n",
            " [-0.00315101  0.03063718 -0.03116492 ... -0.00069922 -0.01750968\n",
            "  -0.01745596]\n",
            " [ 0.03029535  0.03728266 -0.01228642 ...  0.02170339 -0.00105061\n",
            "  -0.00694944]\n",
            " [ 0.01333242  0.04193424 -0.03998842 ...  0.00449513 -0.00430051\n",
            "  -0.01972921]]\n"
          ],
          "name": "stdout"
        }
      ]
    },
    {
      "metadata": {
        "colab_type": "text",
        "id": "DSK5EPNGDgNp"
      },
      "cell_type": "markdown",
      "source": [
        "### Extract"
      ]
    },
    {
      "metadata": {
        "colab_type": "code",
        "id": "BujRBhoi10Zt",
        "colab": {}
      },
      "cell_type": "code",
      "source": [
        "sim1 = cosine_similarity(message_embeddings, gmm.means_)\n",
        "sim2 = cosine_similarity(message_embeddings, bgmm.means_)"
      ],
      "execution_count": 0,
      "outputs": []
    },
    {
      "metadata": {
        "colab_type": "code",
        "id": "wPSCKxuc4v2M",
        "colab": {}
      },
      "cell_type": "code",
      "source": [
        "extractive_means1 = sim1.argmax(axis=0)\n",
        "extractive_means2 = sim2.argmax(axis=0)"
      ],
      "execution_count": 0,
      "outputs": []
    },
    {
      "metadata": {
        "colab_type": "code",
        "id": "ed0lLcdG5OX4",
        "outputId": "455bebe8-cd6a-4539-f70d-3a17b110df48",
        "colab": {
          "base_uri": "https://localhost:8080/",
          "height": 394
        }
      },
      "cell_type": "code",
      "source": [
        "for i in extractive_means1:\n",
        "  print(text[i] + '\\n')\n",
        "  \n",
        "print(\"##########\")\n",
        "  \n",
        "for i in extractive_means2:\n",
        "  print(text[i] + '\\n')"
      ],
      "execution_count": 23,
      "outputs": [
        {
          "output_type": "stream",
          "text": [
            "I am a long time Metallica fan. Even though Load and Reload were disppointing, I respected the effort to reinvent themselves, even though the outcome was mediocre. I also am not stuck in a vision of what Metallica \"ought\" to be. Bands SHOULD try new things and I respect Metallica for not trying to duplicate Master of Puppets and Justice ad nauseum. HOWEVER. This album is simply awful. The songs are depressing and morose at best. Metallica could always be counted on the have great sound and performance. Even though the Black album was rather commercial, one still had to respect how good the songs and playing were. It was like listening to a massive wave of power and groove. St. Anger is nothing but a collection of confused riffs with awful sound, trying to emulate what is new and young. This is tragic. Metallica have always prided themselves on being themselves and not following trends. On this effort, they are simply trying to fit in to the Nu-Metal scene...and they fail miserably. Throw in the ego-maniacal movie they made, and the propulsion of their egos into the stratosphere is complete. These guys have no more focus or hunger. They disrespect their craft and fans with products such as these. I agree with many other reviews that Dave Mustaine has had the last laugh with The System Has Failed, a truly remarkable and terrific album.\n",
            "\n",
            "I.v been a Metallica fan since Ride the Lightning, and this is by far the worst Metallica recording I,v ever heard. The entire album sounds like it was recorded inside of a tin can. The vocals are faint, the music itself is muddy and rushed. I got not more than four tracks into the CD when I wanted to return it to the store and get my money back. Sounds like theyve been listening to too much System of a Down.(which to me was another disappointment along with the latest Godsmack)But I digress. I have not talked to one single person who tinks this album is anything but a peice of ... . Try again guys. Do it yurself and let Bob Rock go back to Bon Jovi. This album [is not good]!\n",
            "\n",
            "Let's start with the fact that this album sounds bad, before we even touch on the fact that it is, in fact, the worst Metallica record ever produced. Metallica latest effort tries to reclaim the glory years, unfortunately the group forgot those years. The one thing on the album that annoyed me the most was the snare drums. They had a tinny, echoing quality that resonates irritatingly into the hard pauses and penetrates even the full symphony of instruments. Also, Kirk Hammet's axe work was mixed unbelievably far back into the album's mix, it's virtually non-existent. Hetfield's voice is an absolute mess. A few of the tracks here, which do honestly attempt to elevate the band back to thrash, are relatively listenable until the vocals come in. The lyrics in some of the songs are just plain silly. One example is Shoot Me Again. Hetfield bellows over and over \"Shoot me again, until I'm dead\" I just shook my head in disbelief. My how the mighty have fallen. The production is terrible as Bob Rock tried to give the band a rawer sound, unfortunately it backfired big time.A lot of hype has been made about the fact that St. Anger is a return to the band's older days. But what all of this assumes is that the older days can be replicated with a few heavy riffs and killer drum fills. That assumption begs for a lot and the fact that this album is full of poor lyrics that are poorly sung, all atop a poor mix of instrumentals. In my opinion, Metallica has hit rock bottom.\n",
            "\n",
            "This isn't the Metallica that fans have grown to love.  This is cutout-bin material that should've never wound up on a CD.  There is no emotion (other than anger, hence the title) portrayed, just unorganized and poor-sounding noise to go along with the horrible vocals with no meaning whatsoever.  Nu-metal fans will love this; it's got about as much to offer as a System of a Down album -- nothing.  If you liked anything Metallica made before \"ReLoad\" and want to retain a favorable image of the once-proud band, then stay as far away from this junk as you can.  Heck, even if you somehow or other did manage to like \"Garage Inc.\", you shouldn't waste your money on this.  You'd think that, in the six years it's taken Hetfield, Ulrich, and company to come up with a new album, that they'd actually sit down, put down their beer, and write an album with some instrumental complexity and lyrical meaning.  I think this album confirms many a Metallica fan's worst nightmare: the band is burnt out, and they're headed further and further down the drain.  I can't believe this was the same band that wrote and produced such magnificent songs as \"Fade To Black\" and \"The Unforgiven.\"  The song \"Shoot Me Again\" basically sums up how I felt after listening (thoroughly, I might add) to this... album.\n",
            "\n",
            "When i heard st anger i liked it but then i heard the album and i was dissappointed because im in my car searching through 11 songs of nothing but lars beating the drums to...death the grunde riffs and the bess just i don't know METALLICA still rules out just about everyone but this album is not my favorite it has no melodey  id prefer metora by linkin park this album isnt bad so it deserved 5 stars so i only like 2 songs so far and thats frantic and st anger the rest are all the same frantic is my favorie\n",
            "\n",
            "##########\n",
            "A step in the right direction never sounded so bad.Keep something in mind: my low score for St. Anger has nothing at all to do with resentment towards the band.  I loved Load and Reload a lot.  I'm one of about three or four Metallica fans who actually supported them during their Napster ordeal.  I think anyone who calls this band a \"sellout\" is not someone who can be taken seriously.However, I dislike St. Anger.  Simply put, it's just not very much fun to listen to.  If the album were, say, an hour long or less, it'd be no problem.  But at a whopping seventy-five minutes, it just collapses under its own weight.  There are probably enough killer guitar riffs scattered throughout the album to form the basis of a great record.  Add a few Kirk Hammett guitar solos, take away some of the trite and clich&eacute;d lyrics, and you've got yourself a great Metallica album.  I even like the raw (and I mean *raw*) sound of St. Anger, and overall, the direction they took with this album is definitely the right direction for them.  That's why I look forward to the next Metallica album- hopefully it will be more focused and tighter without all the long, rambling instrumental passages (an eight minute song is okay, if you've got eight minutes worth of material!).There are exactly three very good songs on the album: the title track, \"Frantic,\" and \"Sweet Amber.\"  The title track is even good enough for me to forget that it's a four-minute song stretched to seven minutes.  I must also mention that all the songs sound a lot better when performed on the bonus DVD- something like this is a great move.  And the artwork on the cover and throughout the rest of the packaging is some of the best I've ever seen, for what it's worth.Keep your fingers crossed, Metallica fans...\n",
            "\n",
            "I.v been a Metallica fan since Ride the Lightning, and this is by far the worst Metallica recording I,v ever heard. The entire album sounds like it was recorded inside of a tin can. The vocals are faint, the music itself is muddy and rushed. I got not more than four tracks into the CD when I wanted to return it to the store and get my money back. Sounds like theyve been listening to too much System of a Down.(which to me was another disappointment along with the latest Godsmack)But I digress. I have not talked to one single person who tinks this album is anything but a peice of ... . Try again guys. Do it yurself and let Bob Rock go back to Bon Jovi. This album [is not good]!\n",
            "\n",
            "I suppose I understand the reasoning behind this albums horrible sound quality. For so many years now, Metallica has heard legions of fans crying for a return to the &quot;good old days&quot;...the days when Metallica was a metal band and substance was more important than production. The question is, is St. Anger an angry middle finger to that breed of Metallica fan? This album is like a bad demo tape made by a garage band before they've even found their own sound. People referred to them as &quot;thinking man's metal&quot; back then, not because they could shred strings and doublekick on drums, but more because of the classical influences, amazing guitar solos, and sophistication of their music. St Anger has none of this...no sophistication, no solos, no originality. Through and through, this album sounds like Metallica just said &quot;they want us heavy again, we'll do nothing but heavy&quot; and &quot;if they want an oldschool sound, we'll go to some junior highschool garage bands garage and record with a My First Sony tape deck&quot;. This is how bad this album sounds. I was not a huge fan of Load, and I think Reload was just complety trash, but St. Anger feels an awful lot like an f-you to a fan of Metallica's truly orinal early works. Master of Puppets and And Justice for All were two of my favorite albums of all time. I mourn the loss of the great band that recorded them. Rest in peace, may we see you again someday.\n",
            "\n",
            "so far this is the worst cd i have heard this year.Metallica is dead & Cliff Burton is rolling in his grave waiting to slap them all when he sees them again in the afterlife.just when you thought it was safe to be a Metallica fan you get ripped yet again. I thought Load & Reload were awful, but this is stupefyingly insane. St. Anger (the song) sounds like it was recorded in a giant toilet & what's up with Lars' drum sound? is his drum tech BLIND & STUPID. for a band back in the day that could care less about chart success, critics & trying to fit in to the current music scene they sure do sound a lot like STAIND, KORN & Limp Triscuit.if you want something worth your hard earned money get a real album. go out & purchase \"HOW THE WEST WAS WON\" by Led Zeppelin you will not be disappointed.\n",
            "\n",
            "Let's start with the fact that this album sounds bad, before we even touch on the fact that it is, in fact, the worst Metallica record ever produced. Metallica latest effort tries to reclaim the glory years, unfortunately the group forgot those years. The one thing on the album that annoyed me the most was the snare drums. They had a tinny, echoing quality that resonates irritatingly into the hard pauses and penetrates even the full symphony of instruments. Also, Kirk Hammet's axe work was mixed unbelievably far back into the album's mix, it's virtually non-existent. Hetfield's voice is an absolute mess. A few of the tracks here, which do honestly attempt to elevate the band back to thrash, are relatively listenable until the vocals come in. The lyrics in some of the songs are just plain silly. One example is Shoot Me Again. Hetfield bellows over and over \"Shoot me again, until I'm dead\" I just shook my head in disbelief. My how the mighty have fallen. The production is terrible as Bob Rock tried to give the band a rawer sound, unfortunately it backfired big time.A lot of hype has been made about the fact that St. Anger is a return to the band's older days. But what all of this assumes is that the older days can be replicated with a few heavy riffs and killer drum fills. That assumption begs for a lot and the fact that this album is full of poor lyrics that are poorly sung, all atop a poor mix of instrumentals. In my opinion, Metallica has hit rock bottom.\n",
            "\n"
          ],
          "name": "stdout"
        }
      ]
    },
    {
      "metadata": {
        "colab_type": "text",
        "id": "bVSr6OnhIpA0"
      },
      "cell_type": "markdown",
      "source": [
        "## Sentence Level"
      ]
    },
    "colab_type": "code",
    "id": "N1RZXwPQuakM",
    "outputId": "d7f3a91e-46f8-4108-a426-f65ad1567da9"
   },
   "outputs": [
    {
      "metadata": {
        "colab_type": "code",
        "id": "UHPj4kuS5erp",
        "colab": {}
      },
      "cell_type": "code",
      "source": [
        "spacy.prefer_gpu()\n",
        "nlp = spacy.load('en_core_web_sm')"
      ],
      "execution_count": 0,
      "outputs": []
    },
    "colab_type": "code",
    "id": "aGJtgTmM0VAX",
    "outputId": "3e362045-76d7-4352-fb0f-120f60a0ead2"
   },
   "outputs": [
    {
      "metadata": {
        "colab_type": "text",
        "id": "FpGq29QtJWc5"
      },
      "cell_type": "markdown",
      "source": [
        "### Perform sentence segmentation"
      ]
     },
     "execution_count": 12,
     "metadata": {
      "tags": []
     },
     "output_type": "execute_result"
    }
   ],
   "source": [
    "message_embeddings"
   ]
  },
  {
   "cell_type": "markdown",
   "metadata": {
    "colab_type": "text",
    "id": "AQfR1cDRDdjy"
   },
   "source": [
    "### Cluster"
   ]
  },
  {
   "cell_type": "code",
   "execution_count": 0,
   "metadata": {
    "colab": {},
    "colab_type": "code",
    "collapsed": true,
    "id": "6DibQU_S02Qh"
   },
   "outputs": [],
   "source": [
    "gmm = GaussianMixture(n_components=5, covariance_type='full').fit(message_embeddings)"
   ]
  },
  {
   "cell_type": "code",
   "execution_count": 17,
   "metadata": {
    "colab": {
     "base_uri": "https://localhost:8080/",
     "height": 187
    },
    "colab_type": "code",
    "id": "baSPcO5z1zH0",
    "outputId": "1d99934c-5a75-4236-faab-cfe23b36bd95"
   },
   "outputs": [
    {
      "metadata": {
        "colab_type": "code",
        "id": "GIw7T0VeJAg8",
        "colab": {}
      },
      "cell_type": "code",
      "source": [
        "sentences = []\n",
        "for review in text:\n",
        "  doc = nlp(review)\n",
        "  for sent in doc.sents:\n",
        "    sentences.append(sent.text)"
      ],
      "execution_count": 0,
      "outputs": []
    },
    {
      "metadata": {
        "colab_type": "code",
        "id": "K33EGpTLKPBL",
        "outputId": "dee0689f-defd-41df-ef4d-b0d947bda1a9",
        "colab": {
          "base_uri": "https://localhost:8080/",
          "height": 207
        }
      },
      "cell_type": "code",
      "source": [
        "sentences[:10]"
      ],
      "execution_count": 31,
      "outputs": [
        {
          "output_type": "execute_result",
          "data": {
            "text/plain": [
              "['Without a doubt, Metallica are the godfathers of thrash metal.',\n",
              " \"More so than any modern band, Metallica has been influential in shaping the course and growth of metal from their early days back in the 1980's to the present.\",\n",
              " 'Perhaps the best compliment that can be paid to Metallica is the fact that, at 40+ years-of-age, they have been able to remain relevant in an industry (music) that is dominated and defined by the interests of the youth.',\n",
              " 'Metallica\\'s early career was defined by four albums which could stand as the defining elements of the thrash metal genre (i.e., \"Kill em All\" through \"...',\n",
              " 'And Justice for All\").',\n",
              " 'Following \"...',\n",
              " 'And Justice for All,\" Metallica entered a period of producing music that, although well written, seemed to abandon their thrash metal roots.',\n",
              " 'As any true fan of Metallica and thrash metal know, Metallica endured some fairly harsh criticism for \"softening up.\"',\n",
              " 'However, with \"St. Anger\" Metallica reposition themselves firmly within the aggressive genre of music that they help create. \"',\n",
              " 'St. Anger\" is truly a brutal, fast, and aggressive album.']"
            ]
          },
          "metadata": {
            "tags": []
          },
          "execution_count": 31
        }
      ]
     },
     "execution_count": 17,
     "metadata": {
      "tags": []
     },
     "output_type": "execute_result"
    }
   ],
   "source": [
    "gmm.means_"
   ]
  },
  {
   "cell_type": "markdown",
   "metadata": {
    "colab_type": "text",
    "id": "DSK5EPNGDgNp"
   },
   "source": [
    "### Extract"
   ]
  },
  {
   "cell_type": "code",
   "execution_count": 0,
   "metadata": {
    "colab": {},
    "colab_type": "code",
    "collapsed": true,
    "id": "BujRBhoi10Zt"
   },
   "outputs": [],
   "source": [
    "sim = cosine_similarity(message_embeddings, gmm.means_)"
   ]
  },
  {
   "cell_type": "code",
   "execution_count": 0,
   "metadata": {
    "colab": {},
    "colab_type": "code",
    "collapsed": true,
    "id": "wPSCKxuc4v2M"
   },
   "outputs": [],
   "source": [
    "extractive_means = sim.argmax(axis=0)"
   ]
  },
  {
   "cell_type": "code",
   "execution_count": 26,
   "metadata": {
    "colab": {
     "base_uri": "https://localhost:8080/",
     "height": 207
    },
    "colab_type": "code",
    "id": "ed0lLcdG5OX4",
    "outputId": "b85faadf-b933-48b7-fd62-363432d45be4"
   },
   "outputs": [
    {
      "metadata": {
        "colab_type": "text",
        "id": "UnKA9KWfMSR7"
      },
      "cell_type": "markdown",
      "source": [
        "### Proceed as before"
      ]
    },
    "colab_type": "code",
    "id": "K33EGpTLKPBL",
    "outputId": "2bba8f13-763f-447e-c1ca-e1faf85069f8"
   },
   "outputs": [
    {
      "metadata": {
        "colab_type": "code",
        "id": "zL_eRRW1J2sW",
        "outputId": "f0d63f12-f8d5-4950-a5ec-6a558f7b6599",
        "colab": {
          "base_uri": "https://localhost:8080/",
          "height": 71
        }
      },
      "cell_type": "code",
      "source": [
        "review_sentence_embeddings = []\n",
        "with tf.Session() as session:\n",
        "  session.run([tf.global_variables_initializer(), tf.tables_initializer()])\n",
        "  review_sentence_embeddings = session.run(embed(sentences))"
      ],
      "execution_count": 26,
      "outputs": [
        {
          "output_type": "stream",
          "text": [
            "INFO:tensorflow:Saver not created because there are no variables in the graph to restore\n"
          ],
          "name": "stdout"
        },
        {
          "output_type": "stream",
          "text": [
            "I0306 18:29:59.336937 139690911184768 saver.py:1483] Saver not created because there are no variables in the graph to restore\n"
          ],
          "name": "stderr"
        }
      ]
     },
     "execution_count": 32,
     "metadata": {
      "tags": []
     },
     "output_type": "execute_result"
    }
   ],
   "source": [
    "sentences[:10]"
   ]
  },
  {
   "cell_type": "markdown",
   "metadata": {
    "colab_type": "text",
    "id": "UnKA9KWfMSR7"
   },
   "source": [
    "### Proceed as before"
   ]
  },
  {
   "cell_type": "code",
   "execution_count": 33,
   "metadata": {
    "colab": {
     "base_uri": "https://localhost:8080/",
     "height": 34
    },
    "colab_type": "code",
    "id": "zL_eRRW1J2sW",
    "outputId": "cd31f326-c720-4040-e0e2-8b5770056c3e"
   },
   "outputs": [
    {
      "metadata": {
        "colab_type": "code",
        "id": "dHPwdw5sMQyn",
        "colab": {}
      },
      "cell_type": "code",
      "source": [
        "gmm_sentence = GaussianMixture(n_components=10, covariance_type='full').fit(review_sentence_embeddings)\n",
        "bgmm_sentence = BayesianGaussianMixture(n_components=10, covariance_type='full').fit(review_sentence_embeddings)"
      ],
      "execution_count": 0,
      "outputs": []
    },
    {
      "metadata": {
        "colab_type": "code",
        "id": "4kl-MPyAMbMM",
        "colab": {}
      },
      "cell_type": "code",
      "source": [
        "sim1 = cosine_similarity(review_sentence_embeddings, gmm_sentence.means_)\n",
        "extractive_means1 = sim1.argmax(axis=0)\n",
        "\n",
        "sim2 = cosine_similarity(review_sentence_embeddings, bgmm_sentence.means_)\n",
        "extractive_means2 = sim2.argmax(axis=0)"
      ],
      "execution_count": 0,
      "outputs": []
    },
    {
      "metadata": {
        "colab_type": "code",
        "id": "xuQAWptoMjhG",
        "outputId": "48656009-0034-4de8-a729-7aa9e12f0db0",
        "colab": {
          "base_uri": "https://localhost:8080/",
          "height": 734
        }
      },
      "cell_type": "code",
      "source": [
        "for i in extractive_means1:\n",
        "  print(sentences[i] + '\\n')\n",
        "\n",
        "print('###########')\n",
        "  \n",
        "for i in extractive_means2:\n",
        "  print(sentences[i] + '\\n')"
      ],
      "execution_count": 37,
      "outputs": [
        {
          "output_type": "stream",
          "text": [
            "The lyrics are horrendous, and all the songs are unbelievably repetetive.\n",
            "\n",
            "metallica is still a great live band though, don't get me wrong, but i think they should release a greatest hits and call it quits after that.\n",
            "\n",
            "I bought this CD the day it came out thinking, this is Metallica-\n",
            "\n",
            "It's not like anything they've done before.\n",
            "\n",
            "Everything with the exception of a few riffs, the bass and the drums, sounds nothing like Metallica.\n",
            "\n",
            "OTHER THAN THAT, METALLICA TURNS IN A VERY GOOD ALBUM.\n",
            "\n",
            "anger and frantic, it was confermed.\n",
            "\n",
            "That is all.\n",
            "\n",
            "This is actually the best straight-up drumming Lars has done, ever.\n",
            "\n",
            "THIS ALBUM IS AT BEST:\n",
            "\n",
            "###########\n",
            "And thats just what you get with St. Anger.\n",
            "\n",
            "The snare sounds like Lars is banging on a garbage can, and there's NOT ONE GUITAR SOLO on the record.  \n",
            "\n",
            "It's not like anything they've done before.\n",
            "\n",
            "I applaud Metallica's approach of including a bonus DVD for the price of one CD.  \n",
            "\n",
            "The lyrics are horrendous, and all the songs are unbelievably repetetive.\n",
            "\n",
            "For the first time, the next Metallica album is not an \"automatic buy.\"I have been a fan of Metallica since their first album.\n",
            "\n",
            "That is all.\n",
            "\n",
            "I like the anger in this album, but St. Anger is something of a failure.\n",
            "\n",
            "THIS ALBUM IS AT BEST:\n",
            "\n",
            "For those fans who have shyed away from Metallica because of recent disagreements about their creative process, or the belief that the guys were in some way &quot;selling-out&quot; in the industry, this album should be a pleasant suprise.  \n",
            "\n"
          ],
          "name": "stdout"
        }
      ]
    },
    "colab_type": "code",
    "id": "xuQAWptoMjhG",
    "outputId": "5728ab7b-5de3-48c3-9860-db70b1fe02ba"
   },
   "outputs": [
    {
      "metadata": {
        "id": "Rw4jlzsKWGCd",
        "colab_type": "code",
        "colab": {}
      },
      "cell_type": "code",
      "source": [
        ""
      ],
      "execution_count": 0,
      "outputs": []
    }
   ],
   "source": [
    "for i in extractive_means:\n",
    "  print(sentences[i] + '\\n')"
   ]
  },
  {
   "cell_type": "code",
   "execution_count": 0,
   "metadata": {
    "colab": {},
    "colab_type": "code",
    "collapsed": true,
    "id": "LL_fx702MpYT"
   },
   "outputs": [],
   "source": []
  }
 ],
 "metadata": {
  "colab": {
   "name": "Baseline.ipynb",
   "provenance": [],
   "version": "0.3.2"
  },
  "kernelspec": {
   "display_name": "Python 3",
   "language": "python",
   "name": "python3"
  },
  "language_info": {
   "codemirror_mode": {
    "name": "ipython",
    "version": 3
   },
   "file_extension": ".py",
   "mimetype": "text/x-python",
   "name": "python",
   "nbconvert_exporter": "python",
   "pygments_lexer": "ipython3",
   "version": "3.6.1"
  }
 },
 "nbformat": 4,
 "nbformat_minor": 1
}
